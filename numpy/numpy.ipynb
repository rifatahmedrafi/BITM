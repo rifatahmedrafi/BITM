{
 "cells": [
  {
   "cell_type": "markdown",
   "id": "f8cdc25d",
   "metadata": {},
   "source": [
    "# Part-1"
   ]
  },
  {
   "cell_type": "code",
   "execution_count": 1,
   "id": "bea14070",
   "metadata": {},
   "outputs": [],
   "source": [
    "# import numpy library\n",
    "import numpy as np"
   ]
  },
  {
   "cell_type": "code",
   "execution_count": 2,
   "id": "6f2c762e",
   "metadata": {},
   "outputs": [
    {
     "data": {
      "text/plain": [
       "([-1, 0, 2], -1)"
      ]
     },
     "execution_count": 2,
     "metadata": {},
     "output_type": "execute_result"
    }
   ],
   "source": [
    "# create a Python list. \n",
    "myList = [-1, 0, 2]\n",
    "myList, myList[0]"
   ]
  },
  {
   "cell_type": "code",
   "execution_count": 3,
   "id": "cbd4a0cf",
   "metadata": {},
   "outputs": [
    {
     "data": {
      "text/plain": [
       "(array([-1,  0,  2]), numpy.ndarray, 2)"
      ]
     },
     "execution_count": 3,
     "metadata": {},
     "output_type": "execute_result"
    }
   ],
   "source": [
    "#create a numpy array, using np.array()\n",
    "myArray = np.array(myList)\n",
    "myArray, type(myArray), myArray[2]"
   ]
  },
  {
   "cell_type": "code",
   "execution_count": 4,
   "id": "dd10b67b",
   "metadata": {},
   "outputs": [
    {
     "data": {
      "text/plain": [
       "array([[1, 2, 3],\n",
       "       [4, 5, 6],\n",
       "       [7, 8, 9],\n",
       "       [4, 5, 9]])"
      ]
     },
     "execution_count": 4,
     "metadata": {},
     "output_type": "execute_result"
    }
   ],
   "source": [
    "# Lets create and cast a list of list to generate 2-D array \n",
    "myList = [[1,2,3],[4,5,6],[7,8,9], [4, 5, 9]]\n",
    "myMatrix_one = np.array(myList)\n",
    "myMatrix_one"
   ]
  },
  {
   "cell_type": "code",
   "execution_count": 5,
   "id": "f9bbe6d6",
   "metadata": {},
   "outputs": [
    {
     "data": {
      "text/plain": [
       "(array([-1,  0,  1]), numpy.ndarray)"
      ]
     },
     "execution_count": 5,
     "metadata": {},
     "output_type": "execute_result"
    }
   ],
   "source": [
    "# We can use Tuple instead of list as well. \n",
    "my_tuple = (-1,0,1)\n",
    "my_array = np.array(my_tuple) \n",
    "my_array, type(my_array)"
   ]
  },
  {
   "cell_type": "markdown",
   "id": "999943f6",
   "metadata": {},
   "source": [
    "# arange()"
   ]
  },
  {
   "cell_type": "code",
   "execution_count": 6,
   "id": "bfdcf45d",
   "metadata": {},
   "outputs": [
    {
     "data": {
      "text/plain": [
       "array([ 1,  2,  3,  4,  5,  6,  7,  8,  9, 10])"
      ]
     },
     "execution_count": 6,
     "metadata": {},
     "output_type": "execute_result"
    }
   ],
   "source": [
    "# similar to range() in Python, not including 10\n",
    "np.arange(1,11)"
   ]
  },
  {
   "cell_type": "code",
   "execution_count": 7,
   "id": "4adab885",
   "metadata": {},
   "outputs": [
    {
     "data": {
      "text/plain": [
       "array([ 2,  4,  6,  8, 10])"
      ]
     },
     "execution_count": 7,
     "metadata": {},
     "output_type": "execute_result"
    }
   ],
   "source": [
    "#We can give the step\n",
    "np.arange(2, 11, 2)"
   ]
  },
  {
   "cell_type": "code",
   "execution_count": 8,
   "id": "252d53ad",
   "metadata": {},
   "outputs": [
    {
     "data": {
      "text/plain": [
       "array([ 2.,  4.,  6.,  8., 10.])"
      ]
     },
     "execution_count": 8,
     "metadata": {},
     "output_type": "execute_result"
    }
   ],
   "source": [
    "#We can give the step and type\n",
    "np.arange(2, 11, 2, dtype = float)"
   ]
  },
  {
   "cell_type": "markdown",
   "id": "2e6e2ade",
   "metadata": {},
   "source": [
    "# linspace()"
   ]
  },
  {
   "cell_type": "code",
   "execution_count": 9,
   "id": "fbd78a78",
   "metadata": {},
   "outputs": [
    {
     "data": {
      "text/plain": [
       "array([1., 2., 3., 4., 5., 6., 7.])"
      ]
     },
     "execution_count": 9,
     "metadata": {},
     "output_type": "execute_result"
    }
   ],
   "source": [
    "# start from 1 & end at 15 with 15 evenly spaced points b/w 1 to 15.\n",
    "np.linspace(1, 7, 7)"
   ]
  },
  {
   "cell_type": "code",
   "execution_count": 10,
   "id": "0e1e0bee",
   "metadata": {},
   "outputs": [
    {
     "data": {
      "text/plain": [
       "(array([1.        , 1.44444444, 1.88888889, 2.33333333, 2.77777778,\n",
       "        3.22222222, 3.66666667, 4.11111111, 4.55555556, 5.        ]),\n",
       " 0.4444444444444444)"
      ]
     },
     "execution_count": 10,
     "metadata": {},
     "output_type": "execute_result"
    }
   ],
   "source": [
    "# Lets find the step size with \"retstep\" which returns the array and the step size and create a 1-D\n",
    "myLinspace = np.linspace(1, 5, 10, retstep=True)\n",
    "myLinspace\n",
    "#myLinspace[1]"
   ]
  },
  {
   "cell_type": "markdown",
   "id": "346e602c",
   "metadata": {},
   "source": [
    "# zeros()"
   ]
  },
  {
   "cell_type": "code",
   "execution_count": 11,
   "id": "ef85711f",
   "metadata": {},
   "outputs": [
    {
     "data": {
      "text/plain": [
       "array([0., 0., 0., 0., 0., 0., 0., 0., 0., 0.])"
      ]
     },
     "execution_count": 11,
     "metadata": {},
     "output_type": "execute_result"
    }
   ],
   "source": [
    "np.zeros(10) # 1-D with 3 elements"
   ]
  },
  {
   "cell_type": "code",
   "execution_count": 12,
   "id": "b90fa1b9",
   "metadata": {},
   "outputs": [
    {
     "data": {
      "text/plain": [
       "array([[0., 0., 0., 0., 0.],\n",
       "       [0., 0., 0., 0., 0.],\n",
       "       [0., 0., 0., 0., 0.],\n",
       "       [0., 0., 0., 0., 0.],\n",
       "       [0., 0., 0., 0., 0.]])"
      ]
     },
     "execution_count": 12,
     "metadata": {},
     "output_type": "execute_result"
    }
   ],
   "source": [
    "np.zeros((5,5)) #(no_row, no_col) passing a tuple"
   ]
  },
  {
   "cell_type": "markdown",
   "id": "d0ffc614",
   "metadata": {},
   "source": [
    "# ones()"
   ]
  },
  {
   "cell_type": "code",
   "execution_count": 13,
   "id": "5608ede0",
   "metadata": {},
   "outputs": [
    {
     "data": {
      "text/plain": [
       "array([1., 1., 1., 1., 1., 1., 1., 1., 1., 1.])"
      ]
     },
     "execution_count": 13,
     "metadata": {},
     "output_type": "execute_result"
    }
   ],
   "source": [
    "np.ones(10)"
   ]
  },
  {
   "cell_type": "code",
   "execution_count": 14,
   "id": "55c17d08",
   "metadata": {},
   "outputs": [
    {
     "data": {
      "text/plain": [
       "array([[1., 1., 1., 1., 1.],\n",
       "       [1., 1., 1., 1., 1.],\n",
       "       [1., 1., 1., 1., 1.],\n",
       "       [1., 1., 1., 1., 1.],\n",
       "       [1., 1., 1., 1., 1.]])"
      ]
     },
     "execution_count": 14,
     "metadata": {},
     "output_type": "execute_result"
    }
   ],
   "source": [
    "np.ones((5,5))"
   ]
  },
  {
   "cell_type": "markdown",
   "id": "b7a7376f",
   "metadata": {},
   "source": [
    "# eye()"
   ]
  },
  {
   "cell_type": "code",
   "execution_count": 15,
   "id": "c58eb12d",
   "metadata": {},
   "outputs": [
    {
     "data": {
      "text/plain": [
       "array([[100.,   0.,   0.,   0.,   0.,   0.,   0.,   0.,   0.,   0.],\n",
       "       [  0., 100.,   0.,   0.,   0.,   0.,   0.,   0.,   0.,   0.],\n",
       "       [  0.,   0., 100.,   0.,   0.,   0.,   0.,   0.,   0.,   0.],\n",
       "       [  0.,   0.,   0., 100.,   0.,   0.,   0.,   0.,   0.,   0.],\n",
       "       [  0.,   0.,   0.,   0., 100.,   0.,   0.,   0.,   0.,   0.],\n",
       "       [  0.,   0.,   0.,   0.,   0., 100.,   0.,   0.,   0.,   0.],\n",
       "       [  0.,   0.,   0.,   0.,   0.,   0., 100.,   0.,   0.,   0.],\n",
       "       [  0.,   0.,   0.,   0.,   0.,   0.,   0., 100.,   0.,   0.],\n",
       "       [  0.,   0.,   0.,   0.,   0.,   0.,   0.,   0., 100.,   0.],\n",
       "       [  0.,   0.,   0.,   0.,   0.,   0.,   0.,   0.,   0., 100.]])"
      ]
     },
     "execution_count": 15,
     "metadata": {},
     "output_type": "execute_result"
    }
   ],
   "source": [
    "np.eye(10)*100"
   ]
  },
  {
   "cell_type": "markdown",
   "id": "2066cd7c",
   "metadata": {},
   "source": [
    "# Random"
   ]
  },
  {
   "cell_type": "code",
   "execution_count": 16,
   "id": "25318288",
   "metadata": {},
   "outputs": [
    {
     "data": {
      "text/plain": [
       "array([0.85934362, 0.17280433, 0.15981667])"
      ]
     },
     "execution_count": 16,
     "metadata": {},
     "output_type": "execute_result"
    }
   ],
   "source": [
    "#rand()\n",
    "np.random.rand(3) # 1-D array with three elements"
   ]
  },
  {
   "cell_type": "code",
   "execution_count": 17,
   "id": "99f3603d",
   "metadata": {},
   "outputs": [
    {
     "data": {
      "text/plain": [
       "array([[0.0785545 , 0.29875491],\n",
       "       [0.04309589, 0.91623667],\n",
       "       [0.07113788, 0.19904984]])"
      ]
     },
     "execution_count": 17,
     "metadata": {},
     "output_type": "execute_result"
    }
   ],
   "source": [
    "np.random.rand(3,2) # row, col, note we are not passing a tuple here, each dimension as a separate argument"
   ]
  },
  {
   "cell_type": "code",
   "execution_count": 18,
   "id": "9e5786c9",
   "metadata": {},
   "outputs": [
    {
     "data": {
      "text/plain": [
       "array([-1.29746007,  0.01078501,  0.76910907])"
      ]
     },
     "execution_count": 18,
     "metadata": {},
     "output_type": "execute_result"
    }
   ],
   "source": [
    "#randn()\n",
    "np.random.randn(3)"
   ]
  },
  {
   "cell_type": "code",
   "execution_count": 19,
   "id": "d98873dc",
   "metadata": {},
   "outputs": [
    {
     "data": {
      "text/plain": [
       "array([[ 1.1511785 , -0.47521497,  0.29022658,  0.45440395],\n",
       "       [-0.43478803, -0.19880825,  0.23674965, -1.1312129 ],\n",
       "       [-0.52464504,  1.16427363,  0.61192148,  0.23701024],\n",
       "       [ 0.75669732, -0.87226025,  2.31680671,  0.68320031]])"
      ]
     },
     "execution_count": 19,
     "metadata": {},
     "output_type": "execute_result"
    }
   ],
   "source": [
    "np.random.randn(4,4) # no tuple, each dimension as a separate argument"
   ]
  },
  {
   "cell_type": "code",
   "execution_count": 20,
   "id": "460d9109",
   "metadata": {},
   "outputs": [
    {
     "data": {
      "text/plain": [
       "5"
      ]
     },
     "execution_count": 20,
     "metadata": {},
     "output_type": "execute_result"
    }
   ],
   "source": [
    "#randint()\n",
    "np.random.randint(1,10) #returns one random int, 1 inclusive, 100 exclusive"
   ]
  },
  {
   "cell_type": "markdown",
   "id": "057ef038",
   "metadata": {},
   "source": [
    "# Array Methods & Attributes"
   ]
  },
  {
   "cell_type": "markdown",
   "id": "c5957a3c",
   "metadata": {},
   "source": [
    "# Methods"
   ]
  },
  {
   "cell_type": "code",
   "execution_count": 21,
   "id": "4fbca3a7",
   "metadata": {},
   "outputs": [
    {
     "data": {
      "text/plain": [
       "array([ 0,  1,  2,  3,  4,  5,  6,  7,  8,  9, 10, 11, 12, 13, 14, 15])"
      ]
     },
     "execution_count": 21,
     "metadata": {},
     "output_type": "execute_result"
    }
   ],
   "source": [
    "# lets create 2 arrays using arange() and randint()\n",
    "array_arange = np.arange(16)\n",
    "array_arange"
   ]
  },
  {
   "cell_type": "code",
   "execution_count": 22,
   "id": "cddc15e7",
   "metadata": {},
   "outputs": [
    {
     "data": {
      "text/plain": [
       "array([35, 61, 72,  1, 70, 48, 68, 22, 57, 64])"
      ]
     },
     "execution_count": 22,
     "metadata": {},
     "output_type": "execute_result"
    }
   ],
   "source": [
    "array_ranint = np.random.randint(0,100,10)\n",
    "array_ranint"
   ]
  },
  {
   "cell_type": "code",
   "execution_count": 23,
   "id": "ccd79a1c",
   "metadata": {},
   "outputs": [
    {
     "data": {
      "text/plain": [
       "array([[ 0,  1,  2,  3],\n",
       "       [ 4,  5,  6,  7],\n",
       "       [ 8,  9, 10, 11],\n",
       "       [12, 13, 14, 15]])"
      ]
     },
     "execution_count": 23,
     "metadata": {},
     "output_type": "execute_result"
    }
   ],
   "source": [
    "array_arange.reshape(4,4) # reshape()"
   ]
  },
  {
   "cell_type": "code",
   "execution_count": 24,
   "id": "0e8bf11f",
   "metadata": {},
   "outputs": [
    {
     "data": {
      "text/plain": [
       "1"
      ]
     },
     "execution_count": 24,
     "metadata": {},
     "output_type": "execute_result"
    }
   ],
   "source": [
    "array_ranint.min() # min()"
   ]
  },
  {
   "cell_type": "code",
   "execution_count": 25,
   "id": "46f42ac5",
   "metadata": {},
   "outputs": [
    {
     "data": {
      "text/plain": [
       "72"
      ]
     },
     "execution_count": 25,
     "metadata": {},
     "output_type": "execute_result"
    }
   ],
   "source": [
    "array_ranint.max() # max()"
   ]
  },
  {
   "cell_type": "code",
   "execution_count": 26,
   "id": "4f219c4b",
   "metadata": {},
   "outputs": [
    {
     "data": {
      "text/plain": [
       "3"
      ]
     },
     "execution_count": 26,
     "metadata": {},
     "output_type": "execute_result"
    }
   ],
   "source": [
    "array_ranint.argmin() #To find the index locations of max and min values in array argmin()"
   ]
  },
  {
   "cell_type": "code",
   "execution_count": 27,
   "id": "3ba57694",
   "metadata": {},
   "outputs": [
    {
     "data": {
      "text/plain": [
       "2"
      ]
     },
     "execution_count": 27,
     "metadata": {},
     "output_type": "execute_result"
    }
   ],
   "source": [
    "array_ranint.argmax() # To find the index locations of max and min values in array argmax()"
   ]
  },
  {
   "cell_type": "markdown",
   "id": "b79a4d0d",
   "metadata": {},
   "source": [
    "# Attributes"
   ]
  },
  {
   "cell_type": "code",
   "execution_count": 28,
   "id": "3a18a97e",
   "metadata": {},
   "outputs": [
    {
     "data": {
      "text/plain": [
       "(16,)"
      ]
     },
     "execution_count": 28,
     "metadata": {},
     "output_type": "execute_result"
    }
   ],
   "source": [
    "array_arange.shape\n",
    "#reshape_test.shape"
   ]
  },
  {
   "cell_type": "code",
   "execution_count": 29,
   "id": "999fe4f4",
   "metadata": {},
   "outputs": [
    {
     "data": {
      "text/plain": [
       "16"
      ]
     },
     "execution_count": 29,
     "metadata": {},
     "output_type": "execute_result"
    }
   ],
   "source": [
    "# Size of the array \n",
    "array_arange.size"
   ]
  },
  {
   "cell_type": "code",
   "execution_count": 30,
   "id": "59239c97",
   "metadata": {},
   "outputs": [
    {
     "data": {
      "text/plain": [
       "dtype('int32')"
      ]
     },
     "execution_count": 30,
     "metadata": {},
     "output_type": "execute_result"
    }
   ],
   "source": [
    "# Type of the data.\n",
    "array_arange.dtype"
   ]
  },
  {
   "cell_type": "code",
   "execution_count": 31,
   "id": "bb0dfc39",
   "metadata": {},
   "outputs": [
    {
     "data": {
      "text/plain": [
       "array([[ 0,  1,  2,  3],\n",
       "       [ 4,  5,  6,  7],\n",
       "       [ 8,  9, 10, 11],\n",
       "       [12, 13, 14, 15]])"
      ]
     },
     "execution_count": 31,
     "metadata": {},
     "output_type": "execute_result"
    }
   ],
   "source": [
    "# Notice the two sets of brackets\n",
    "array_arange.reshape(4,4)"
   ]
  },
  {
   "cell_type": "code",
   "execution_count": 32,
   "id": "c15f0a8c",
   "metadata": {},
   "outputs": [
    {
     "data": {
      "text/plain": [
       "(4, 4)"
      ]
     },
     "execution_count": 32,
     "metadata": {},
     "output_type": "execute_result"
    }
   ],
   "source": [
    "array_arange.reshape(4,4).shape"
   ]
  },
  {
   "cell_type": "markdown",
   "id": "b5376549",
   "metadata": {},
   "source": [
    "# Indexing & slicing of 1-D arrays (vectors)"
   ]
  },
  {
   "cell_type": "code",
   "execution_count": 33,
   "id": "c82858ae",
   "metadata": {},
   "outputs": [
    {
     "data": {
      "text/plain": [
       "array([-10,  -2,   0,   2,  17, 106, 200])"
      ]
     },
     "execution_count": 33,
     "metadata": {},
     "output_type": "execute_result"
    }
   ],
   "source": [
    "# Lets create a simple 1-D NumPy array.\n",
    "# (we can use arange() as well.) \n",
    "array_1d = np.array([-10, -2, 0, 2, 17, 106,200])\n",
    "array_1d"
   ]
  },
  {
   "cell_type": "code",
   "execution_count": 34,
   "id": "67c63999",
   "metadata": {},
   "outputs": [
    {
     "data": {
      "text/plain": [
       "-10"
      ]
     },
     "execution_count": 34,
     "metadata": {},
     "output_type": "execute_result"
    }
   ],
   "source": [
    "# Getting value at certain index\n",
    "array_1d[0]"
   ]
  },
  {
   "cell_type": "code",
   "execution_count": 35,
   "id": "eb051f7a",
   "metadata": {},
   "outputs": [
    {
     "data": {
      "text/plain": [
       "(array([-10,  -2,   0]), array([-10,  -2,   0,   2,  17, 106, 200]))"
      ]
     },
     "execution_count": 35,
     "metadata": {},
     "output_type": "execute_result"
    }
   ],
   "source": [
    "# Getting a range value\n",
    "array_1d[0:3], array_1d\n",
    "# array_1d is included in the out to compare and understand"
   ]
  },
  {
   "cell_type": "code",
   "execution_count": 36,
   "id": "1f6b99eb",
   "metadata": {},
   "outputs": [
    {
     "data": {
      "text/plain": [
       "(array([-2,  0,  2, 17]), array([-10,  -2,   0,   2,  17, 106, 200]))"
      ]
     },
     "execution_count": 36,
     "metadata": {},
     "output_type": "execute_result"
    }
   ],
   "source": [
    "# Using -ve index for a range \n",
    "array_1d[1:-2], array_1d # 1 inclusive and -2 exclusive in this case"
   ]
  },
  {
   "cell_type": "code",
   "execution_count": 37,
   "id": "e114c6d0",
   "metadata": {},
   "outputs": [
    {
     "data": {
      "text/plain": [
       "(array([-10,  -2]), array([  0,   2,  17, 106, 200]))"
      ]
     },
     "execution_count": 37,
     "metadata": {},
     "output_type": "execute_result"
    }
   ],
   "source": [
    "# Getting up-to and from certain index -- remember index starts from '0'\n",
    "# (no need to give start and stop indexes)\n",
    "array_1d[:2], array_1d[2:]"
   ]
  },
  {
   "cell_type": "code",
   "execution_count": 38,
   "id": "2704156c",
   "metadata": {},
   "outputs": [
    {
     "data": {
      "text/plain": [
       "array([-102,   -2,    0,    2,   17,  106,  200])"
      ]
     },
     "execution_count": 38,
     "metadata": {},
     "output_type": "execute_result"
    }
   ],
   "source": [
    "# Assigning a new value to a certain index in the array \n",
    "array_1d[0] = -102\n",
    "array_1d"
   ]
  },
  {
   "cell_type": "markdown",
   "id": "fca818bc",
   "metadata": {},
   "source": [
    "# Indexing & slicing 2-D arrays (matrices)"
   ]
  },
  {
   "cell_type": "code",
   "execution_count": 39,
   "id": "a22ac15a",
   "metadata": {},
   "outputs": [
    {
     "data": {
      "text/plain": [
       "array([[ 0,  1,  2,  3],\n",
       "       [ 4,  5,  6,  7],\n",
       "       [ 8,  9, 10, 11],\n",
       "       [12, 13, 14, 15],\n",
       "       [16, 17, 18, 19],\n",
       "       [20, 21, 22, 23]])"
      ]
     },
     "execution_count": 39,
     "metadata": {},
     "output_type": "execute_result"
    }
   ],
   "source": [
    "array_2d= np.arange(24)\n",
    "array_2d.shape = (6,4) #array_2d.reshape(6,4)\n",
    "array_2d"
   ]
  },
  {
   "cell_type": "code",
   "execution_count": 40,
   "id": "af462d53",
   "metadata": {},
   "outputs": [
    {
     "data": {
      "text/plain": [
       "array([ 8,  9, 10, 11])"
      ]
     },
     "execution_count": 40,
     "metadata": {},
     "output_type": "execute_result"
    }
   ],
   "source": [
    "# To get a complete row\n",
    "array_2d[2]"
   ]
  },
  {
   "cell_type": "code",
   "execution_count": 41,
   "id": "5d82a1a5",
   "metadata": {},
   "outputs": [
    {
     "data": {
      "text/plain": [
       "array([ 8,  9, 10, 11])"
      ]
     },
     "execution_count": 41,
     "metadata": {},
     "output_type": "execute_result"
    }
   ],
   "source": [
    "array_2d[-4] # -0 and 0 is same inedex"
   ]
  },
  {
   "cell_type": "code",
   "execution_count": 42,
   "id": "19be2a7b",
   "metadata": {},
   "outputs": [
    {
     "data": {
      "text/plain": [
       "22"
      ]
     },
     "execution_count": 42,
     "metadata": {},
     "output_type": "execute_result"
    }
   ],
   "source": [
    "# To get an individual element value at row = 5 and column = 2\n",
    "array_2d[5,2]"
   ]
  },
  {
   "cell_type": "code",
   "execution_count": 43,
   "id": "f074418c",
   "metadata": {},
   "outputs": [
    {
     "data": {
      "text/plain": [
       "22"
      ]
     },
     "execution_count": 43,
     "metadata": {},
     "output_type": "execute_result"
    }
   ],
   "source": [
    "# another way \n",
    "row = 5\n",
    "column = 2\n",
    "array_2d[row, column]"
   ]
  },
  {
   "cell_type": "code",
   "execution_count": 44,
   "id": "7c391ac6",
   "metadata": {},
   "outputs": [
    {
     "data": {
      "text/plain": [
       "22"
      ]
     },
     "execution_count": 44,
     "metadata": {},
     "output_type": "execute_result"
    }
   ],
   "source": [
    "# Just to make sure, using [row][col] :)\n",
    "array_2d[5][2]"
   ]
  },
  {
   "cell_type": "code",
   "execution_count": 45,
   "id": "866c5ead",
   "metadata": {},
   "outputs": [
    {
     "data": {
      "text/plain": [
       "array([[0, 1],\n",
       "       [4, 5]])"
      ]
     },
     "execution_count": 45,
     "metadata": {},
     "output_type": "execute_result"
    }
   ],
   "source": [
    "# 2D array slicing\n",
    "array_2d[:2,:2] # array_2d[:2,:2].shape gives (2,2), 4 elements for top left corner \n",
    "#[row:row, column:column] [From 0 row to 1 row, From 0 column to 1 column]\n",
    "# array_2d[0:2,0:2] is same as array_2d[:2,:2]"
   ]
  },
  {
   "cell_type": "code",
   "execution_count": 46,
   "id": "e1fedfb1",
   "metadata": {},
   "outputs": [
    {
     "data": {
      "text/plain": [
       "array([[10, 11],\n",
       "       [14, 15]])"
      ]
     },
     "execution_count": 46,
     "metadata": {},
     "output_type": "execute_result"
    }
   ],
   "source": [
    "array_2d[2:4,2:4] # inner slice [From 2 row to 3 row, From 2 column to 3 column]"
   ]
  },
  {
   "cell_type": "markdown",
   "id": "62a239ce",
   "metadata": {},
   "source": [
    "# Part-2"
   ]
  },
  {
   "cell_type": "code",
   "execution_count": 48,
   "id": "9b0cd905",
   "metadata": {},
   "outputs": [
    {
     "data": {
      "text/plain": [
       "array([0, 1, 2, 3, 4, 5, 6, 7, 8, 9])"
      ]
     },
     "execution_count": 48,
     "metadata": {},
     "output_type": "execute_result"
    }
   ],
   "source": [
    "# Lets create an array using arange()\n",
    "array_1d = np.arange(0,10)\n",
    "array_1d"
   ]
  },
  {
   "cell_type": "code",
   "execution_count": 49,
   "id": "d9840945",
   "metadata": {},
   "outputs": [
    {
     "data": {
      "text/plain": [
       "array([500, 500, 500, 500, 500,   5,   6,   7,   8,   9])"
      ]
     },
     "execution_count": 49,
     "metadata": {},
     "output_type": "execute_result"
    }
   ],
   "source": [
    "#broadcast\n",
    "array_1d[0:5] = 500 \n",
    "array_1d"
   ]
  },
  {
   "cell_type": "code",
   "execution_count": 68,
   "id": "03f6a0ab",
   "metadata": {},
   "outputs": [
    {
     "data": {
      "text/plain": [
       "array([[1., 1., 1., 1.],\n",
       "       [1., 1., 1., 1.],\n",
       "       [1., 1., 1., 1.],\n",
       "       [1., 1., 1., 1.]])"
      ]
     },
     "execution_count": 68,
     "metadata": {},
     "output_type": "execute_result"
    }
   ],
   "source": [
    "# Lets create a 2D martix with ones\n",
    "array_2d = np.ones((4,4))\n",
    "array_2d"
   ]
  },
  {
   "cell_type": "code",
   "execution_count": 72,
   "id": "7bd3287e",
   "metadata": {},
   "outputs": [
    {
     "data": {
      "text/plain": [
       "array([[300., 300., 300., 300.],\n",
       "       [  1.,   1.,   1.,   1.],\n",
       "       [  1.,   1.,   1.,   1.],\n",
       "       [  1.,   1.,   1.,   1.]])"
      ]
     },
     "execution_count": 72,
     "metadata": {},
     "output_type": "execute_result"
    }
   ],
   "source": [
    "# Lets broadcast 300 to the first row of array_2d\n",
    "array_2d[0] = 300\n",
    "array_2d"
   ]
  },
  {
   "cell_type": "code",
   "execution_count": 73,
   "id": "8c0b2545",
   "metadata": {},
   "outputs": [
    {
     "data": {
      "text/plain": [
       "array([[300., 301., 302., 303.],\n",
       "       [  1.,   2.,   3.,   4.],\n",
       "       [  1.,   2.,   3.,   4.],\n",
       "       [  1.,   2.,   3.,   4.]])"
      ]
     },
     "execution_count": 73,
     "metadata": {},
     "output_type": "execute_result"
    }
   ],
   "source": [
    "# Lets create a simple 1-D array and broadcast to array_2d\n",
    "array_2d + np.arange(0,4)  #[0,1,2,3]"
   ]
  },
  {
   "cell_type": "code",
   "execution_count": 76,
   "id": "083ed8f6",
   "metadata": {},
   "outputs": [
    {
     "data": {
      "text/plain": [
       "array([[600., 600., 600., 600.],\n",
       "       [301., 301., 301., 301.],\n",
       "       [301., 301., 301., 301.],\n",
       "       [301., 301., 301., 301.]])"
      ]
     },
     "execution_count": 76,
     "metadata": {},
     "output_type": "execute_result"
    }
   ],
   "source": [
    "array_2d + 300"
   ]
  },
  {
   "cell_type": "code",
   "execution_count": 78,
   "id": "1dd2d11c",
   "metadata": {},
   "outputs": [
    {
     "data": {
      "text/plain": [
       "array([[300., 300., 300., 300.],\n",
       "       [  1.,   1.,   1.,   1.],\n",
       "       [  1.,   1.,   1.,   1.],\n",
       "       [  1.,   1.,   1.,   1.]])"
      ]
     },
     "execution_count": 78,
     "metadata": {},
     "output_type": "execute_result"
    }
   ],
   "source": [
    "array_2d"
   ]
  },
  {
   "cell_type": "code",
   "execution_count": 79,
   "id": "a9fad3b0",
   "metadata": {},
   "outputs": [
    {
     "data": {
      "text/plain": [
       "array([[300., 300., 300., 300.],\n",
       "       [  1.,   1.,   1.,   1.],\n",
       "       [  1.,   1.,   1.,   1.]])"
      ]
     },
     "execution_count": 79,
     "metadata": {},
     "output_type": "execute_result"
    }
   ],
   "source": [
    "array_2d[[0, 2, 3]]"
   ]
  },
  {
   "cell_type": "code",
   "execution_count": 80,
   "id": "712248bc",
   "metadata": {},
   "outputs": [
    {
     "data": {
      "text/plain": [
       "array([[  1.,   1.,   1.,   1.],\n",
       "       [300., 300., 300., 300.],\n",
       "       [  1.,   1.,   1.,   1.]])"
      ]
     },
     "execution_count": 80,
     "metadata": {},
     "output_type": "execute_result"
    }
   ],
   "source": [
    "# We can use any order\n",
    "array_2d[[3,0,1]]"
   ]
  },
  {
   "cell_type": "code",
   "execution_count": 84,
   "id": "f41e01b4",
   "metadata": {},
   "outputs": [
    {
     "data": {
      "text/plain": [
       "array([[ 0,  1,  2,  3],\n",
       "       [ 4,  5,  6,  7],\n",
       "       [ 8,  9, 10, 11],\n",
       "       [12, 13, 14, 15],\n",
       "       [16, 17, 18, 19],\n",
       "       [20, 21, 22, 23]])"
      ]
     },
     "execution_count": 84,
     "metadata": {},
     "output_type": "execute_result"
    }
   ],
   "source": [
    "# lets try another matrix\n",
    "array_3d = np.arange(24)\n",
    "array_3d.shape = (6,4)\n",
    "array_3d"
   ]
  },
  {
   "cell_type": "code",
   "execution_count": 85,
   "id": "bc2d48a7",
   "metadata": {},
   "outputs": [
    {
     "data": {
      "text/plain": [
       "array([[ 8,  9, 10, 11],\n",
       "       [16, 17, 18, 19]])"
      ]
     },
     "execution_count": 85,
     "metadata": {},
     "output_type": "execute_result"
    }
   ],
   "source": [
    "# grabbing rows\n",
    "array_3d[[2,4]]"
   ]
  },
  {
   "cell_type": "code",
   "execution_count": 90,
   "id": "dfc78500",
   "metadata": {},
   "outputs": [
    {
     "data": {
      "text/plain": [
       "array([[ 3,  2],\n",
       "       [ 7,  6],\n",
       "       [11, 10],\n",
       "       [15, 14],\n",
       "       [19, 18],\n",
       "       [23, 22]])"
      ]
     },
     "execution_count": 90,
     "metadata": {},
     "output_type": "execute_result"
    }
   ],
   "source": [
    "# grabbing columns\n",
    "#array_3d[:,3:2]\n",
    "array_3d[:,[3,2]]"
   ]
  },
  {
   "cell_type": "code",
   "execution_count": 91,
   "id": "e08418d4",
   "metadata": {},
   "outputs": [
    {
     "data": {
      "text/plain": [
       "array([ 1,  2,  3,  4,  5,  6,  7,  8,  9, 10])"
      ]
     },
     "execution_count": 91,
     "metadata": {},
     "output_type": "execute_result"
    }
   ],
   "source": [
    "# Lets create a simple array using arange()\n",
    "array_1d = np.arange(1,11)\n",
    "array_1d"
   ]
  },
  {
   "cell_type": "code",
   "execution_count": 92,
   "id": "7d0fc2c3",
   "metadata": {},
   "outputs": [
    {
     "data": {
      "text/plain": [
       "array([False, False, False,  True,  True,  True,  True,  True,  True,\n",
       "        True])"
      ]
     },
     "execution_count": 92,
     "metadata": {},
     "output_type": "execute_result"
    }
   ],
   "source": [
    "array_1d > 3"
   ]
  },
  {
   "cell_type": "code",
   "execution_count": 93,
   "id": "f0d22837",
   "metadata": {},
   "outputs": [
    {
     "data": {
      "text/plain": [
       "array([False, False, False,  True,  True,  True,  True,  True,  True,\n",
       "        True])"
      ]
     },
     "execution_count": 93,
     "metadata": {},
     "output_type": "execute_result"
    }
   ],
   "source": [
    "# lets create a bool_array for some condition, say array_1d > 3\n",
    "bool_array = array_1d > 3\n",
    "bool_array"
   ]
  },
  {
   "cell_type": "code",
   "execution_count": 94,
   "id": "5daf1180",
   "metadata": {},
   "outputs": [
    {
     "data": {
      "text/plain": [
       "array([1, 0, 1, 0, 1, 0, 1, 0, 1, 0], dtype=int32)"
      ]
     },
     "execution_count": 94,
     "metadata": {},
     "output_type": "execute_result"
    }
   ],
   "source": [
    "array_1d % 2"
   ]
  },
  {
   "cell_type": "code",
   "execution_count": 95,
   "id": "82fc8663",
   "metadata": {},
   "outputs": [
    {
     "data": {
      "text/plain": [
       "array([False,  True, False,  True, False,  True, False,  True, False,\n",
       "        True])"
      ]
     },
     "execution_count": 95,
     "metadata": {},
     "output_type": "execute_result"
    }
   ],
   "source": [
    "0 == array_1d % 2"
   ]
  },
  {
   "cell_type": "code",
   "execution_count": 96,
   "id": "c5cb4d4a",
   "metadata": {},
   "outputs": [
    {
     "data": {
      "text/plain": [
       "array([False,  True, False,  True, False,  True, False,  True, False,\n",
       "        True])"
      ]
     },
     "execution_count": 96,
     "metadata": {},
     "output_type": "execute_result"
    }
   ],
   "source": [
    "# A number is even if, number % 2 is \"0\"\n",
    "mod_2_mask_1d = 0 == array_1d % 2 \n",
    "mod_2_mask_1d"
   ]
  },
  {
   "cell_type": "code",
   "execution_count": 107,
   "id": "e3f0dce2",
   "metadata": {},
   "outputs": [
    {
     "data": {
      "text/plain": [
       "array([ 2,  4,  6,  8, 10])"
      ]
     },
     "execution_count": 107,
     "metadata": {},
     "output_type": "execute_result"
    }
   ],
   "source": [
    "#array_1d[[False,  True, False,  True, False,  True, False,  True, False,True]] it's print only True value. like 2,4,6\n",
    "array_1d[mod_2_mask_1d] "
   ]
  },
  {
   "cell_type": "markdown",
   "id": "34781fad",
   "metadata": {},
   "source": [
    "# NumPy Operations"
   ]
  },
  {
   "cell_type": "markdown",
   "id": "8f2fc88c",
   "metadata": {},
   "source": [
    "Arithmetic operations"
   ]
  },
  {
   "cell_type": "code",
   "execution_count": 108,
   "id": "7194ea3d",
   "metadata": {},
   "outputs": [
    {
     "data": {
      "text/plain": [
       "array([0, 1, 2, 3, 4])"
      ]
     },
     "execution_count": 108,
     "metadata": {},
     "output_type": "execute_result"
    }
   ],
   "source": [
    "# Let's create an array using arange() method\n",
    "arr = np.arange(0,5)\n",
    "arr"
   ]
  },
  {
   "cell_type": "code",
   "execution_count": 109,
   "id": "492218a0",
   "metadata": {},
   "outputs": [
    {
     "data": {
      "text/plain": [
       "array([0, 2, 4, 6, 8])"
      ]
     },
     "execution_count": 109,
     "metadata": {},
     "output_type": "execute_result"
    }
   ],
   "source": [
    "# Adding two arrays\n",
    "arr + arr  #[0, 1, 2, 3, 4] + [0, 1, 2, 3, 4]"
   ]
  },
  {
   "cell_type": "code",
   "execution_count": 110,
   "id": "8f99635e",
   "metadata": {},
   "outputs": [
    {
     "data": {
      "text/plain": [
       "array([0, 0, 0, 0, 0])"
      ]
     },
     "execution_count": 110,
     "metadata": {},
     "output_type": "execute_result"
    }
   ],
   "source": [
    "# Subtracting two arrays\n",
    "arr - arr"
   ]
  },
  {
   "cell_type": "code",
   "execution_count": 111,
   "id": "b0631577",
   "metadata": {},
   "outputs": [
    {
     "data": {
      "text/plain": [
       "array([ 0,  1,  4,  9, 16])"
      ]
     },
     "execution_count": 111,
     "metadata": {},
     "output_type": "execute_result"
    }
   ],
   "source": [
    "# Multiplication\n",
    "arr * arr"
   ]
  },
  {
   "cell_type": "code",
   "execution_count": 112,
   "id": "a2598e4a",
   "metadata": {},
   "outputs": [
    {
     "name": "stderr",
     "output_type": "stream",
     "text": [
      "C:\\Users\\Rifat Ahmed\\AppData\\Local\\Temp\\ipykernel_8772\\1371265232.py:2: RuntimeWarning: invalid value encountered in true_divide\n",
      "  arr / arr\n"
     ]
    },
    {
     "data": {
      "text/plain": [
       "array([nan,  1.,  1.,  1.,  1.])"
      ]
     },
     "execution_count": 112,
     "metadata": {},
     "output_type": "execute_result"
    }
   ],
   "source": [
    "# Division\n",
    "arr / arr\n",
    "# warning and 0/0 is replaced with nan"
   ]
  },
  {
   "cell_type": "code",
   "execution_count": 113,
   "id": "de080623",
   "metadata": {},
   "outputs": [
    {
     "name": "stderr",
     "output_type": "stream",
     "text": [
      "C:\\Users\\Rifat Ahmed\\AppData\\Local\\Temp\\ipykernel_8772\\1491116826.py:1: RuntimeWarning: divide by zero encountered in true_divide\n",
      "  1/arr #[0, 1, 2, 3, 4]\n"
     ]
    },
    {
     "data": {
      "text/plain": [
       "array([       inf, 1.        , 0.5       , 0.33333333, 0.25      ])"
      ]
     },
     "execution_count": 113,
     "metadata": {},
     "output_type": "execute_result"
    }
   ],
   "source": [
    "1/arr #[0, 1, 2, 3, 4]\n",
    "# warning for 1/0, inf"
   ]
  },
  {
   "cell_type": "code",
   "execution_count": 114,
   "id": "d0843f16",
   "metadata": {},
   "outputs": [
    {
     "data": {
      "text/plain": [
       "array([ 0,  1,  4,  9, 16], dtype=int32)"
      ]
     },
     "execution_count": 114,
     "metadata": {},
     "output_type": "execute_result"
    }
   ],
   "source": [
    "# Power of all the elements in an array\n",
    "arr ** 2"
   ]
  },
  {
   "cell_type": "code",
   "execution_count": 115,
   "id": "1faaefe6",
   "metadata": {},
   "outputs": [
    {
     "data": {
      "text/plain": [
       "array([0, 2, 4, 6, 8])"
      ]
     },
     "execution_count": 115,
     "metadata": {},
     "output_type": "execute_result"
    }
   ],
   "source": [
    "# Multiplication with scalar \n",
    "2 * arr #[0, 1, 2, 3, 4]"
   ]
  },
  {
   "cell_type": "markdown",
   "id": "965b5303",
   "metadata": {},
   "source": [
    "# Universal functions"
   ]
  },
  {
   "cell_type": "code",
   "execution_count": 116,
   "id": "b6e334fd",
   "metadata": {},
   "outputs": [
    {
     "data": {
      "text/plain": [
       "array([0.        , 1.        , 1.41421356, 1.73205081, 2.        ])"
      ]
     },
     "execution_count": 116,
     "metadata": {},
     "output_type": "execute_result"
    }
   ],
   "source": [
    "# Square root\n",
    "np.sqrt(arr) #[0, 1, 2, 3, 4]"
   ]
  },
  {
   "cell_type": "code",
   "execution_count": 117,
   "id": "5e3373c9",
   "metadata": {},
   "outputs": [
    {
     "data": {
      "text/plain": [
       "(4, 0)"
      ]
     },
     "execution_count": 117,
     "metadata": {},
     "output_type": "execute_result"
    }
   ],
   "source": [
    "# max and min values\n",
    "np.max(arr), np.min(arr)"
   ]
  },
  {
   "cell_type": "code",
   "execution_count": 118,
   "id": "341a1c88",
   "metadata": {},
   "outputs": [
    {
     "data": {
      "text/plain": [
       "array([ 0.        ,  0.84147098,  0.90929743,  0.14112001, -0.7568025 ])"
      ]
     },
     "execution_count": 118,
     "metadata": {},
     "output_type": "execute_result"
    }
   ],
   "source": [
    "# Trigonometric functions, e.g. sin, cos, tan, arcsin, ......\n",
    "np.sin(arr)"
   ]
  },
  {
   "cell_type": "code",
   "execution_count": 119,
   "id": "5a87667a",
   "metadata": {},
   "outputs": [
    {
     "data": {
      "text/plain": [
       "array([ 1.        ,  0.54030231, -0.41614684, -0.9899925 , -0.65364362])"
      ]
     },
     "execution_count": 119,
     "metadata": {},
     "output_type": "execute_result"
    }
   ],
   "source": [
    "# Trigonometric functions, e.g. sin, cos, tan, arcsin, ......\n",
    "np.cos(arr)"
   ]
  },
  {
   "cell_type": "code",
   "execution_count": 120,
   "id": "a890bd63",
   "metadata": {},
   "outputs": [
    {
     "data": {
      "text/plain": [
       "array([ 0.        ,  1.55740772, -2.18503986, -0.14254654,  1.15782128])"
      ]
     },
     "execution_count": 120,
     "metadata": {},
     "output_type": "execute_result"
    }
   ],
   "source": [
    "# Trigonometric functions, e.g. sin, cos, tan, arcsin, ......\n",
    "np.tan(arr)"
   ]
  },
  {
   "cell_type": "code",
   "execution_count": 121,
   "id": "11f8cbfb",
   "metadata": {},
   "outputs": [
    {
     "data": {
      "text/plain": [
       "array([[ 0,  1,  2,  3,  4],\n",
       "       [ 5,  6,  7,  8,  9],\n",
       "       [10, 11, 12, 13, 14],\n",
       "       [15, 16, 17, 18, 19],\n",
       "       [20, 21, 22, 23, 24],\n",
       "       [25, 26, 27, 28, 29]])"
      ]
     },
     "execution_count": 121,
     "metadata": {},
     "output_type": "execute_result"
    }
   ],
   "source": [
    "array_2d= np.arange(30).reshape(6,5)\n",
    "array_2d"
   ]
  },
  {
   "cell_type": "code",
   "execution_count": 122,
   "id": "1c543114",
   "metadata": {},
   "outputs": [
    {
     "data": {
      "text/plain": [
       "array([[17, 18, 19],\n",
       "       [22, 23, 24],\n",
       "       [27, 28, 29]])"
      ]
     },
     "execution_count": 122,
     "metadata": {},
     "output_type": "execute_result"
    }
   ],
   "source": [
    "array_2d[3:, 2:]"
   ]
  },
  {
   "cell_type": "code",
   "execution_count": 125,
   "id": "ad9fbdfb",
   "metadata": {},
   "outputs": [
    {
     "data": {
      "text/plain": [
       "29"
      ]
     },
     "execution_count": 125,
     "metadata": {},
     "output_type": "execute_result"
    }
   ],
   "source": [
    "#array_2d[5,4] \n",
    "array_2d[5][4]"
   ]
  },
  {
   "cell_type": "code",
   "execution_count": 127,
   "id": "d37c2b9f",
   "metadata": {},
   "outputs": [
    {
     "data": {
      "text/plain": [
       "array([[ 1,  2],\n",
       "       [ 6,  7],\n",
       "       [11, 12]])"
      ]
     },
     "execution_count": 127,
     "metadata": {},
     "output_type": "execute_result"
    }
   ],
   "source": [
    "#for col 1 and 2 \n",
    "#array_2d[:3,1:2] \n",
    "array_2d[:3,1:3] "
   ]
  },
  {
   "cell_type": "code",
   "execution_count": 128,
   "id": "587f233e",
   "metadata": {},
   "outputs": [
    {
     "data": {
      "text/plain": [
       "array([10, 11, 12, 13, 14])"
      ]
     },
     "execution_count": 128,
     "metadata": {},
     "output_type": "execute_result"
    }
   ],
   "source": [
    "array_2d[2,:] # array_2d[2:3,:] will give the same output"
   ]
  },
  {
   "cell_type": "code",
   "execution_count": 129,
   "id": "f646077b",
   "metadata": {},
   "outputs": [
    {
     "data": {
      "text/plain": [
       "array([[10, 11, 12, 13, 14],\n",
       "       [15, 16, 17, 18, 19]])"
      ]
     },
     "execution_count": 129,
     "metadata": {},
     "output_type": "execute_result"
    }
   ],
   "source": [
    "array_2d[2:4,:]"
   ]
  },
  {
   "cell_type": "code",
   "execution_count": 130,
   "id": "ce59978c",
   "metadata": {},
   "outputs": [
    {
     "data": {
      "text/plain": [
       "array([[ 0,  1,  2,  3,  4],\n",
       "       [ 5,  6,  7,  8,  9],\n",
       "       [10, 11, 12, 13, 14],\n",
       "       [15, 16, 17, 18, 19],\n",
       "       [20, 21, 22, 23, 24],\n",
       "       [25, 26, 27, 28, 29]])"
      ]
     },
     "execution_count": 130,
     "metadata": {},
     "output_type": "execute_result"
    }
   ],
   "source": [
    "# To avoid overwriting the output, please code here \n",
    "array_2d"
   ]
  },
  {
   "cell_type": "code",
   "execution_count": 131,
   "id": "e7a63d44",
   "metadata": {},
   "outputs": [
    {
     "data": {
      "text/plain": [
       "435"
      ]
     },
     "execution_count": 131,
     "metadata": {},
     "output_type": "execute_result"
    }
   ],
   "source": [
    "array_2d.sum()"
   ]
  },
  {
   "cell_type": "code",
   "execution_count": 132,
   "id": "a0bdc085",
   "metadata": {},
   "outputs": [
    {
     "name": "stdout",
     "output_type": "stream",
     "text": [
      "Row sum: [ 10  35  60  85 110 135]\n",
      "Columns sum: [75 81 87 93 99]\n"
     ]
    }
   ],
   "source": [
    "print(\"Row sum:\", array_2d.sum(axis=1))\n",
    "print(\"Columns sum:\", array_2d.sum(axis=0))"
   ]
  },
  {
   "cell_type": "code",
   "execution_count": 133,
   "id": "ea118d60",
   "metadata": {},
   "outputs": [
    {
     "data": {
      "text/plain": [
       "8.65544144839919"
      ]
     },
     "execution_count": 133,
     "metadata": {},
     "output_type": "execute_result"
    }
   ],
   "source": [
    "array_2d.std()"
   ]
  },
  {
   "cell_type": "code",
   "execution_count": 134,
   "id": "d539a23a",
   "metadata": {},
   "outputs": [
    {
     "data": {
      "text/plain": [
       "array([[False,  True,  True, False,  True],\n",
       "       [ True, False,  True,  True, False],\n",
       "       [ True,  True, False,  True,  True],\n",
       "       [False,  True,  True, False,  True],\n",
       "       [ True, False,  True,  True, False],\n",
       "       [ True,  True, False,  True,  True]])"
      ]
     },
     "execution_count": 134,
     "metadata": {},
     "output_type": "execute_result"
    }
   ],
   "source": [
    "array_2d % 3 != 0"
   ]
  },
  {
   "cell_type": "code",
   "execution_count": 135,
   "id": "23c28fbf",
   "metadata": {},
   "outputs": [
    {
     "data": {
      "text/plain": [
       "array([[False,  True,  True, False,  True],\n",
       "       [ True, False,  True,  True, False],\n",
       "       [ True,  True, False,  True,  True],\n",
       "       [False,  True,  True, False,  True],\n",
       "       [ True, False,  True,  True, False],\n",
       "       [ True,  True, False,  True,  True]])"
      ]
     },
     "execution_count": 135,
     "metadata": {},
     "output_type": "execute_result"
    }
   ],
   "source": [
    "mask_mod_3 = 0 != array_2d % 3\n",
    "mask_mod_3"
   ]
  },
  {
   "cell_type": "code",
   "execution_count": 136,
   "id": "1c5f16eb",
   "metadata": {},
   "outputs": [
    {
     "data": {
      "text/plain": [
       "array([ 1,  2,  4,  5,  7,  8, 10, 11, 13, 14, 16, 17, 19, 20, 22, 23, 25,\n",
       "       26, 28, 29])"
      ]
     },
     "execution_count": 136,
     "metadata": {},
     "output_type": "execute_result"
    }
   ],
   "source": [
    "mask_mod_3 = 0 != array_2d % 3  # Creating mask for the said condition\n",
    "array_2d[mask_mod_3]"
   ]
  },
  {
   "cell_type": "code",
   "execution_count": 137,
   "id": "1c582fc8",
   "metadata": {},
   "outputs": [
    {
     "name": "stderr",
     "output_type": "stream",
     "text": [
      "C:\\Users\\Rifat Ahmed\\AppData\\Local\\Temp\\ipykernel_8772\\1473819699.py:2: RuntimeWarning: divide by zero encountered in log\n",
      "  np.log(arr)\n"
     ]
    },
    {
     "data": {
      "text/plain": [
       "array([      -inf, 0.        , 0.69314718, 1.09861229, 1.38629436])"
      ]
     },
     "execution_count": 137,
     "metadata": {},
     "output_type": "execute_result"
    }
   ],
   "source": [
    "# log function\n",
    "np.log(arr)\n",
    "# warning for inf"
   ]
  },
  {
   "cell_type": "code",
   "execution_count": null,
   "id": "8d4767ce",
   "metadata": {},
   "outputs": [],
   "source": []
  }
 ],
 "metadata": {
  "kernelspec": {
   "display_name": "Python 3 (ipykernel)",
   "language": "python",
   "name": "python3"
  },
  "language_info": {
   "codemirror_mode": {
    "name": "ipython",
    "version": 3
   },
   "file_extension": ".py",
   "mimetype": "text/x-python",
   "name": "python",
   "nbconvert_exporter": "python",
   "pygments_lexer": "ipython3",
   "version": "3.9.12"
  }
 },
 "nbformat": 4,
 "nbformat_minor": 5
}
