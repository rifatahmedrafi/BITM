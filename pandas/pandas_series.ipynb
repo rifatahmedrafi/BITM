{
 "cells": [
  {
   "cell_type": "markdown",
   "id": "d3d93490",
   "metadata": {},
   "source": [
    "# Part-1 (series)"
   ]
  },
  {
   "cell_type": "code",
   "execution_count": 1,
   "id": "fedfeccd",
   "metadata": {},
   "outputs": [],
   "source": [
    "# import numpy and pandas library\n",
    "import numpy as np\n",
    "import pandas as pd"
   ]
  },
  {
   "cell_type": "markdown",
   "id": "00b5aa74",
   "metadata": {},
   "source": [
    "#### Series using lists"
   ]
  },
  {
   "cell_type": "code",
   "execution_count": 12,
   "id": "a8265a64",
   "metadata": {},
   "outputs": [],
   "source": [
    "my_data = [100,200,300] "
   ]
  },
  {
   "cell_type": "markdown",
   "id": "63460803",
   "metadata": {},
   "source": [
    "### series have a two argument 1. Data, 2. Index                 pd.Series(data, index)"
   ]
  },
  {
   "cell_type": "code",
   "execution_count": 7,
   "id": "28ea35a9",
   "metadata": {},
   "outputs": [
    {
     "data": {
      "text/plain": [
       "0    100\n",
       "1    200\n",
       "2    300\n",
       "dtype: int64"
      ]
     },
     "execution_count": 7,
     "metadata": {},
     "output_type": "execute_result"
    }
   ],
   "source": [
    "# Converting my_data (Python list) to Series (pandas series)\n",
    "pd.Series(data = my_data)\n",
    "#0,1,2 is default index. "
   ]
  },
  {
   "cell_type": "code",
   "execution_count": 8,
   "id": "d8ba807f",
   "metadata": {},
   "outputs": [],
   "source": [
    "my_labels = ['x','y','z'] "
   ]
  },
  {
   "cell_type": "code",
   "execution_count": 9,
   "id": "45f2d6f2",
   "metadata": {},
   "outputs": [
    {
     "data": {
      "text/plain": [
       "x    100\n",
       "y    200\n",
       "z    300\n",
       "dtype: int64"
      ]
     },
     "execution_count": 9,
     "metadata": {},
     "output_type": "execute_result"
    }
   ],
   "source": [
    "pd.Series(data = my_data, index = my_labels)\n",
    "# x,y,z is index given"
   ]
  },
  {
   "cell_type": "code",
   "execution_count": 10,
   "id": "3bed202e",
   "metadata": {},
   "outputs": [
    {
     "data": {
      "text/plain": [
       "0    100\n",
       "1    200\n",
       "2    300\n",
       "dtype: int32"
      ]
     },
     "execution_count": 10,
     "metadata": {},
     "output_type": "execute_result"
    }
   ],
   "source": [
    "# Lets create NumPy array from my_data and then Series from that array\n",
    "my_array = np.array(my_data)\n",
    "pd.Series(data = my_array)"
   ]
  },
  {
   "cell_type": "code",
   "execution_count": 11,
   "id": "1be7eace",
   "metadata": {},
   "outputs": [
    {
     "data": {
      "text/plain": [
       "x    100\n",
       "y    200\n",
       "z    300\n",
       "dtype: int32"
      ]
     },
     "execution_count": 11,
     "metadata": {},
     "output_type": "execute_result"
    }
   ],
   "source": [
    "pd.Series(data = my_array, index = my_labels)\n",
    "# pd.Series(my_array, my_labels) # data and index are in order"
   ]
  },
  {
   "cell_type": "markdown",
   "id": "90404d4a",
   "metadata": {},
   "source": [
    "### Series using dictionary"
   ]
  },
  {
   "cell_type": "markdown",
   "id": "8803b8f5",
   "metadata": {},
   "source": [
    "***Notice the difference here,<br> if we pass a `dictionary` to `Series`, pandas will take the keys as `index/labels` and `values` as data.***"
   ]
  },
  {
   "cell_type": "code",
   "execution_count": 13,
   "id": "a259beda",
   "metadata": {
    "scrolled": true
   },
   "outputs": [
    {
     "data": {
      "text/plain": [
       "x    100\n",
       "y    200\n",
       "z    300\n",
       "dtype: int64"
      ]
     },
     "execution_count": 13,
     "metadata": {},
     "output_type": "execute_result"
    }
   ],
   "source": [
    "# Let's create a dictionary my_dic\n",
    "my_dic = {'x':100,'y':200,'z':300}\n",
    "pd.Series(my_dic)"
   ]
  },
  {
   "cell_type": "code",
   "execution_count": 14,
   "id": "bbd9a0fa",
   "metadata": {},
   "outputs": [
    {
     "data": {
      "text/plain": [
       "0    x\n",
       "1    y\n",
       "2    z\n",
       "dtype: object"
      ]
     },
     "execution_count": 14,
     "metadata": {},
     "output_type": "execute_result"
    }
   ],
   "source": [
    "# let's pass my_labels (which is a list of strings) as data\n",
    "pd.Series(data = my_labels)"
   ]
  },
  {
   "cell_type": "code",
   "execution_count": 16,
   "id": "1d7e9d77",
   "metadata": {},
   "outputs": [],
   "source": [
    "# Creating dictionaries\n",
    "dic_1 = {'Toronto': 500, 'Calgary': 200, 'Vancouver': 300, 'Montreal': 700}\n",
    "dic_2 = {'Calgary': 200, 'Vancouver': 300, 'Montreal': 700}\n",
    "dic_3 = {'Calgary': 200, 'Vancouver': 300, 'Montreal': 700, 'Jasper':1000}\n",
    "\n",
    "# Creating pandas series from the dictionaries\n",
    "ser1 = pd.Series(dic_1)\n",
    "ser2 = pd.Series(dic_2)\n",
    "ser3 = pd.Series(dic_3)"
   ]
  },
  {
   "cell_type": "code",
   "execution_count": 17,
   "id": "87c50a4f",
   "metadata": {},
   "outputs": [
    {
     "data": {
      "text/plain": [
       "Toronto      500\n",
       "Calgary      200\n",
       "Vancouver    300\n",
       "Montreal     700\n",
       "dtype: int64"
      ]
     },
     "execution_count": 17,
     "metadata": {},
     "output_type": "execute_result"
    }
   ],
   "source": [
    "ser1"
   ]
  },
  {
   "cell_type": "code",
   "execution_count": 18,
   "id": "f64546bb",
   "metadata": {},
   "outputs": [
    {
     "data": {
      "text/plain": [
       "200"
      ]
     },
     "execution_count": 18,
     "metadata": {},
     "output_type": "execute_result"
    }
   ],
   "source": [
    "# Grabbing information for series is very much similar to dictionary.\n",
    "ser1['Calgary'] # its case sensitive \"calgary\" is not the same as \"Calgary\""
   ]
  },
  {
   "cell_type": "code",
   "execution_count": 19,
   "id": "99b7f1fa",
   "metadata": {},
   "outputs": [
    {
     "data": {
      "text/plain": [
       "Calgary      200\n",
       "Vancouver    300\n",
       "Montreal     700\n",
       "dtype: int64"
      ]
     },
     "execution_count": 19,
     "metadata": {},
     "output_type": "execute_result"
    }
   ],
   "source": [
    "ser2"
   ]
  },
  {
   "cell_type": "code",
   "execution_count": 21,
   "id": "3de4d89f",
   "metadata": {},
   "outputs": [
    {
     "data": {
      "text/plain": [
       "Calgary       400.0\n",
       "Montreal     1400.0\n",
       "Toronto         NaN\n",
       "Vancouver     600.0\n",
       "dtype: float64"
      ]
     },
     "execution_count": 21,
     "metadata": {},
     "output_type": "execute_result"
    }
   ],
   "source": [
    "ser4 = ser1 + ser2\n",
    "ser4"
   ]
  },
  {
   "cell_type": "code",
   "execution_count": 22,
   "id": "d032684e",
   "metadata": {},
   "outputs": [
    {
     "data": {
      "text/plain": [
       "Calgary       200\n",
       "Vancouver     300\n",
       "Montreal      700\n",
       "Jasper       1000\n",
       "dtype: int64"
      ]
     },
     "execution_count": 22,
     "metadata": {},
     "output_type": "execute_result"
    }
   ],
   "source": [
    "# Let's look at ser3!\n",
    "ser3 # C J M V are in order"
   ]
  },
  {
   "cell_type": "code",
   "execution_count": 23,
   "id": "d5e8eb9c",
   "metadata": {},
   "outputs": [
    {
     "data": {
      "text/plain": [
       "Calgary       600.0\n",
       "Jasper          NaN\n",
       "Montreal     2100.0\n",
       "Toronto         NaN\n",
       "Vancouver     900.0\n",
       "dtype: float64"
      ]
     },
     "execution_count": 23,
     "metadata": {},
     "output_type": "execute_result"
    }
   ],
   "source": [
    "ser5 = ser4 + ser3\n",
    "ser5"
   ]
  },
  {
   "cell_type": "markdown",
   "id": "86c8b737",
   "metadata": {},
   "source": [
    "### `isnull()`, `notnull()` "
   ]
  },
  {
   "cell_type": "code",
   "execution_count": 25,
   "id": "a0c73e35",
   "metadata": {},
   "outputs": [
    {
     "data": {
      "text/plain": [
       "Calgary       400.0\n",
       "Montreal     1400.0\n",
       "Toronto         NaN\n",
       "Vancouver     600.0\n",
       "dtype: float64"
      ]
     },
     "execution_count": 25,
     "metadata": {},
     "output_type": "execute_result"
    }
   ],
   "source": [
    "ser4"
   ]
  },
  {
   "cell_type": "code",
   "execution_count": 26,
   "id": "3e609a22",
   "metadata": {},
   "outputs": [
    {
     "data": {
      "text/plain": [
       "Calgary      False\n",
       "Montreal     False\n",
       "Toronto       True\n",
       "Vancouver    False\n",
       "dtype: bool"
      ]
     },
     "execution_count": 26,
     "metadata": {},
     "output_type": "execute_result"
    }
   ],
   "source": [
    "#pd.isnull(ser4)\n",
    "ser4.isnull()\n",
    "# shift+tab, its Type is method"
   ]
  },
  {
   "cell_type": "code",
   "execution_count": 27,
   "id": "da87b182",
   "metadata": {},
   "outputs": [
    {
     "data": {
      "text/plain": [
       "Calgary       True\n",
       "Montreal      True\n",
       "Toronto      False\n",
       "Vancouver     True\n",
       "dtype: bool"
      ]
     },
     "execution_count": 27,
     "metadata": {},
     "output_type": "execute_result"
    }
   ],
   "source": [
    "#pd.isnull(ser4)\n",
    "ser4.notnull()\n",
    "# shift+tab, its Type is method"
   ]
  },
  {
   "cell_type": "markdown",
   "id": "585faaf9",
   "metadata": {},
   "source": [
    "### `axes`, `values`"
   ]
  },
  {
   "cell_type": "code",
   "execution_count": 29,
   "id": "d8624282",
   "metadata": {},
   "outputs": [
    {
     "data": {
      "text/plain": [
       "Toronto      500\n",
       "Calgary      200\n",
       "Vancouver    300\n",
       "Montreal     700\n",
       "dtype: int64"
      ]
     },
     "execution_count": 29,
     "metadata": {},
     "output_type": "execute_result"
    }
   ],
   "source": [
    "ser1"
   ]
  },
  {
   "cell_type": "code",
   "execution_count": 28,
   "id": "aa28e5fc",
   "metadata": {},
   "outputs": [
    {
     "data": {
      "text/plain": [
       "[Index(['Toronto', 'Calgary', 'Vancouver', 'Montreal'], dtype='object')]"
      ]
     },
     "execution_count": 28,
     "metadata": {},
     "output_type": "execute_result"
    }
   ],
   "source": [
    "# row axis labels (index) list can be obtained\n",
    "ser1.axes"
   ]
  },
  {
   "cell_type": "code",
   "execution_count": 30,
   "id": "96974d0c",
   "metadata": {},
   "outputs": [
    {
     "data": {
      "text/plain": [
       "array([500, 200, 300, 700], dtype=int64)"
      ]
     },
     "execution_count": 30,
     "metadata": {},
     "output_type": "execute_result"
    }
   ],
   "source": [
    "# returns the values/data\n",
    "ser1.values"
   ]
  },
  {
   "cell_type": "markdown",
   "id": "71a3bba5",
   "metadata": {},
   "source": [
    "### `head()`, `tail()`"
   ]
  },
  {
   "cell_type": "code",
   "execution_count": 31,
   "id": "175eda05",
   "metadata": {},
   "outputs": [
    {
     "data": {
      "text/plain": [
       "Toronto      500\n",
       "Calgary      200\n",
       "Vancouver    300\n",
       "Montreal     700\n",
       "dtype: int64"
      ]
     },
     "execution_count": 31,
     "metadata": {},
     "output_type": "execute_result"
    }
   ],
   "source": [
    "ser1"
   ]
  },
  {
   "cell_type": "code",
   "execution_count": 32,
   "id": "9a6236b0",
   "metadata": {},
   "outputs": [
    {
     "data": {
      "text/plain": [
       "Toronto    500\n",
       "Calgary    200\n",
       "dtype: int64"
      ]
     },
     "execution_count": 32,
     "metadata": {},
     "output_type": "execute_result"
    }
   ],
   "source": [
    "ser1.head(2)"
   ]
  },
  {
   "cell_type": "code",
   "execution_count": 33,
   "id": "65b9544c",
   "metadata": {},
   "outputs": [
    {
     "data": {
      "text/plain": [
       "Vancouver    300\n",
       "Montreal     700\n",
       "dtype: int64"
      ]
     },
     "execution_count": 33,
     "metadata": {},
     "output_type": "execute_result"
    }
   ],
   "source": [
    "ser1.tail(2)"
   ]
  },
  {
   "cell_type": "markdown",
   "id": "489833c4",
   "metadata": {},
   "source": [
    "### `size`\n",
    "* To check the number of elements in your data."
   ]
  },
  {
   "cell_type": "code",
   "execution_count": 34,
   "id": "34df9e53",
   "metadata": {},
   "outputs": [
    {
     "data": {
      "text/plain": [
       "4"
      ]
     },
     "execution_count": 34,
     "metadata": {},
     "output_type": "execute_result"
    }
   ],
   "source": [
    "ser1.size"
   ]
  },
  {
   "cell_type": "markdown",
   "id": "3d706e34",
   "metadata": {},
   "source": [
    "### `empty` \n",
    "* True if the series in empty"
   ]
  },
  {
   "cell_type": "code",
   "execution_count": 35,
   "id": "69d6baed",
   "metadata": {},
   "outputs": [
    {
     "data": {
      "text/plain": [
       "False"
      ]
     },
     "execution_count": 35,
     "metadata": {},
     "output_type": "execute_result"
    }
   ],
   "source": [
    "# True for empty series\n",
    "ser1.empty"
   ]
  },
  {
   "cell_type": "code",
   "execution_count": null,
   "id": "1f28d267",
   "metadata": {},
   "outputs": [],
   "source": []
  }
 ],
 "metadata": {
  "kernelspec": {
   "display_name": "Python 3 (ipykernel)",
   "language": "python",
   "name": "python3"
  },
  "language_info": {
   "codemirror_mode": {
    "name": "ipython",
    "version": 3
   },
   "file_extension": ".py",
   "mimetype": "text/x-python",
   "name": "python",
   "nbconvert_exporter": "python",
   "pygments_lexer": "ipython3",
   "version": "3.9.12"
  }
 },
 "nbformat": 4,
 "nbformat_minor": 5
}
