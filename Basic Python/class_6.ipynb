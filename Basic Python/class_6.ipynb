{
 "cells": [
  {
   "cell_type": "markdown",
   "id": "f659d27b",
   "metadata": {},
   "source": [
    "# object"
   ]
  },
  {
   "cell_type": "code",
   "execution_count": 3,
   "id": "96fe571c",
   "metadata": {},
   "outputs": [
    {
     "name": "stdout",
     "output_type": "stream",
     "text": [
      "Roll =10, GPA=3.75\n"
     ]
    }
   ],
   "source": [
    "class student:\n",
    "    def set_value(self, roll, gpa):\n",
    "        self.roll=roll\n",
    "        self.gpa=gpa\n",
    "\n",
    "    def display(self):\n",
    "        print(f\"Roll ={self.roll}, GPA={self.gpa}\")\n",
    "\n",
    "kamal = student()\n",
    "\n",
    "kamal.set_value(10, 3.75)\n",
    "kamal.display()\n"
   ]
  },
  {
   "cell_type": "markdown",
   "id": "d637e08b",
   "metadata": {},
   "source": [
    "# Default Constructors \n"
   ]
  },
  {
   "cell_type": "code",
   "execution_count": 4,
   "id": "3978cae0",
   "metadata": {},
   "outputs": [
    {
     "name": "stdout",
     "output_type": "stream",
     "text": [
      "section = A\n"
     ]
    }
   ],
   "source": [
    "class student:\n",
    "    def __init__(self):\n",
    "        self.section=\"A\"\n",
    "\n",
    "    def display(self):\n",
    "        print(f\"section = {self.section}\")\n",
    "\n",
    "kamal = student()\n",
    "kamal.display()\n",
    "\n",
    "\n"
   ]
  },
  {
   "cell_type": "markdown",
   "id": "93dc60af",
   "metadata": {},
   "source": [
    "\n",
    "# Parameterized Constructors \n"
   ]
  },
  {
   "cell_type": "code",
   "execution_count": 5,
   "id": "7a40eb6d",
   "metadata": {},
   "outputs": [
    {
     "name": "stdout",
     "output_type": "stream",
     "text": [
      "Roll =10, GPA=3.75\n"
     ]
    }
   ],
   "source": [
    "class student:\n",
    "    def __init__(self, roll, gpa):\n",
    "        self.roll=roll\n",
    "        self.gpa=gpa\n",
    "\n",
    "    def display(self):\n",
    "        print(f\"Roll ={self.roll}, GPA={self.gpa}\")\n",
    "\n",
    "kamal = student(10, 3.75)\n",
    "kamal.display()\n"
   ]
  },
  {
   "cell_type": "markdown",
   "id": "6d785660",
   "metadata": {},
   "source": [
    "# Intro to Inheritance\n"
   ]
  },
  {
   "cell_type": "code",
   "execution_count": 9,
   "id": "093f2cc2",
   "metadata": {},
   "outputs": [
    {
     "name": "stdout",
     "output_type": "stream",
     "text": [
      "John Doe\n",
      "Abul Hossain\n"
     ]
    }
   ],
   "source": [
    "class Person:\n",
    "    def __init__(self, fname, lname):\n",
    "            self.firstname = fname\n",
    "            self.lastname = lname\n",
    "\n",
    "    def printname(self):\n",
    "            print(self.firstname, self.lastname)\n",
    "#-----------------------------------------------------\n",
    "x = Person(\"John\", \"Doe\")\n",
    "x.printname()\n",
    "\n",
    "\n",
    "\n",
    "class Student(Person):\n",
    "    pass\n",
    "#----------------------------------\n",
    "y = Student(\"Abul\", \"Hossain\")\n",
    "y.printname()\n"
   ]
  },
  {
   "cell_type": "code",
   "execution_count": 10,
   "id": "10b46148",
   "metadata": {},
   "outputs": [
    {
     "name": "stdout",
     "output_type": "stream",
     "text": [
      "This is class A\n",
      "This is class B\n"
     ]
    }
   ],
   "source": [
    "#Single Inheritance\n",
    "class A:\n",
    "    def display1(self):\n",
    "        print(\"This is class A\")\n",
    "\n",
    "class B(A):\n",
    "    def display2(self):\n",
    "        print(\"This is class B\")\n",
    "\n",
    "objB = B()\n",
    "objB.display1()\n",
    "objB.display2()\n"
   ]
  },
  {
   "cell_type": "code",
   "execution_count": 12,
   "id": "df0f725f",
   "metadata": {},
   "outputs": [
    {
     "name": "stdout",
     "output_type": "stream",
     "text": [
      "This is class A\n",
      "This is class B\n",
      "This is class C\n"
     ]
    }
   ],
   "source": [
    "#Multiple Inheritance\n",
    "class A:\n",
    "    def display1(self):\n",
    "        print(\"This is class A\")\n",
    "\n",
    "class B:\n",
    "    def display2(self):\n",
    "        print(\"This is class B\")\n",
    "\n",
    "class C(A, B):\n",
    "    def display3(self):\n",
    "        print(\"This is class C\")\n",
    "\n",
    "objC = C()\n",
    "objC.display1()\n",
    "objC.display2()\n",
    "objC.display3()\n",
    "\n"
   ]
  },
  {
   "cell_type": "code",
   "execution_count": 13,
   "id": "288896cd",
   "metadata": {},
   "outputs": [
    {
     "name": "stdout",
     "output_type": "stream",
     "text": [
      "This is class A\n",
      "This is class B\n",
      "This is class C\n"
     ]
    }
   ],
   "source": [
    "#Multilevel Inheritance\n",
    "class A:\n",
    "    def display1(self):\n",
    "        print(\"This is class A\")\n",
    "\n",
    "class B(A):\n",
    "    def display2(self):\n",
    "        print(\"This is class B\")\n",
    "\n",
    "class C(B):\n",
    "    def display3(self):\n",
    "        print(\"This is class C\")\n",
    "\n",
    "objC = C()\n",
    "\n",
    "objC.display1()\n",
    "objC.display2()\n",
    "objC.display3()\n"
   ]
  },
  {
   "cell_type": "code",
   "execution_count": 17,
   "id": "17dbed3f",
   "metadata": {},
   "outputs": [
    {
     "name": "stdout",
     "output_type": "stream",
     "text": [
      "This function is in parent class.\n",
      "This function is in child 1.\n",
      "This function is in parent class.\n",
      "This function is in child 2.\n"
     ]
    }
   ],
   "source": [
    "#Hierarchical Inheritance\n",
    "class Parent:  # Base class\n",
    "      def func1(self):\n",
    "            print(\"This function is in parent class.\")\n",
    "\n",
    "class Child1(Parent): # Derived class1\n",
    "      def func2(self):\n",
    "            print(\"This function is in child 1.\")\n",
    "\n",
    "class Child2(Parent): # Derivied class2\n",
    "      def func3(self):\n",
    "            print(\"This function is in child 2.\")\n",
    "\n",
    "# Driver's code\n",
    "object1 = Child1()\n",
    "object2 = Child2()\n",
    "\n",
    "object1.func1()\n",
    "object1.func2()\n",
    "\n",
    "object2.func1()\n",
    "object2.func3()\n",
    "\n"
   ]
  },
  {
   "cell_type": "markdown",
   "id": "c50f91da",
   "metadata": {},
   "source": [
    "# Method Overloading\n"
   ]
  },
  {
   "cell_type": "code",
   "execution_count": 22,
   "id": "ce5213cb",
   "metadata": {},
   "outputs": [
    {
     "name": "stdout",
     "output_type": "stream",
     "text": [
      "100\n"
     ]
    }
   ],
   "source": [
    "def product(a, b):\n",
    "    p = a * b\n",
    "    print(p)\n",
    "\n",
    "def product(a, b, c):\n",
    "    p = a * b * c\n",
    "    print(p)\n",
    "\n",
    "# Uncommenting the below line shows an error\n",
    "#product(4, 5, 9)\n",
    "\n",
    "# This line will call the second product method\n",
    "product(4, 5, 5)\n"
   ]
  },
  {
   "cell_type": "markdown",
   "id": "243f784a",
   "metadata": {},
   "source": [
    "# Method Overriding\n"
   ]
  },
  {
   "cell_type": "code",
   "execution_count": 26,
   "id": "0e8ca586",
   "metadata": {},
   "outputs": [
    {
     "name": "stdout",
     "output_type": "stream",
     "text": [
      "Inside Child\n"
     ]
    }
   ],
   "source": [
    "# Defining parent class\n",
    "class Parent():\n",
    "    def __init__(self):\n",
    "        self.value = \"Inside Parent\"\n",
    "\n",
    "    # Parent's show method\n",
    "    def show(self):\n",
    "        print(self.value)\n",
    "\n",
    "# Defining child class\n",
    "class Child(Parent):\n",
    "\n",
    "    # Constructor\n",
    "    def __init__(self):\n",
    "        self.value = \"Inside Child\"\n",
    "\n",
    "#obj1 = Parent()\n",
    "obj2 = Child()\n",
    "\n",
    "#obj1.show()\n",
    "obj2.show()\n"
   ]
  },
  {
   "cell_type": "markdown",
   "id": "2f152a12",
   "metadata": {},
   "source": [
    "# Polymorphism"
   ]
  },
  {
   "cell_type": "code",
   "execution_count": 27,
   "id": "ffe1bb32",
   "metadata": {},
   "outputs": [
    {
     "name": "stdout",
     "output_type": "stream",
     "text": [
      "14\n",
      "3\n",
      "50\n",
      "60\n"
     ]
    }
   ],
   "source": [
    "#Built in Polymorphic function\n",
    "print(len(\"Aksadur Rahman\"))\n",
    "print(len([10, 20, 30]))\n",
    "\n",
    "#User define polymorphic function\n",
    "def add(x, y, z=0):\n",
    "    return x+y+z\n",
    "\n",
    "print(add(30, 20))\n",
    "print(add(10, 30, 20))\n"
   ]
  },
  {
   "cell_type": "code",
   "execution_count": null,
   "id": "417dba0f",
   "metadata": {},
   "outputs": [],
   "source": []
  }
 ],
 "metadata": {
  "kernelspec": {
   "display_name": "Python 3 (ipykernel)",
   "language": "python",
   "name": "python3"
  },
  "language_info": {
   "codemirror_mode": {
    "name": "ipython",
    "version": 3
   },
   "file_extension": ".py",
   "mimetype": "text/x-python",
   "name": "python",
   "nbconvert_exporter": "python",
   "pygments_lexer": "ipython3",
   "version": "3.9.12"
  }
 },
 "nbformat": 4,
 "nbformat_minor": 5
}
