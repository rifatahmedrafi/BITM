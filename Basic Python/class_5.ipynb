{
 "cells": [
  {
   "cell_type": "markdown",
   "id": "eaa12d97",
   "metadata": {},
   "source": [
    "# Function"
   ]
  },
  {
   "cell_type": "code",
   "execution_count": null,
   "id": "309eab3d",
   "metadata": {},
   "outputs": [
    {
     "name": "stdout",
     "output_type": "stream",
     "text": [
      "Hello World\n",
      "3\n",
      "10\n",
      "Enter your name:\n"
     ]
    }
   ],
   "source": [
    "# Built in function \n",
    "print(\"Hello World\")\n",
    "\n",
    "mylist = [\"apple\",\"banana\",\"cherry\"]\n",
    "print(len(mylist))\n",
    "\n",
    "print(max(5, 10))\n",
    "\n",
    "print('Enter your name:')\n",
    "x = input()\n",
    "print('Hello, ' + x)\n"
   ]
  },
  {
   "cell_type": "code",
   "execution_count": 14,
   "id": "e31c215e",
   "metadata": {},
   "outputs": [
    {
     "name": "stdout",
     "output_type": "stream",
     "text": [
      "Hello from a function\n"
     ]
    }
   ],
   "source": [
    "#user define function\n",
    "def my_function():\n",
    "      print(\"Hello from a function\")\n",
    "\n",
    "my_function()\n"
   ]
  },
  {
   "cell_type": "markdown",
   "id": "12ded495",
   "metadata": {},
   "source": [
    "# Parameters/Arguments\n"
   ]
  },
  {
   "cell_type": "code",
   "execution_count": 1,
   "id": "cc7c9523",
   "metadata": {},
   "outputs": [
    {
     "name": "stdout",
     "output_type": "stream",
     "text": [
      "Good Morning: rafi\n",
      "Good Morning: rifat\n",
      "Good Morning: enam\n"
     ]
    }
   ],
   "source": [
    "def my_function(fname):\n",
    "    print(\"Good Morning: \"+ fname)\n",
    "    \n",
    "my_function('rafi')\n",
    "my_function('rifat')\n",
    "my_function('enam')    "
   ]
  },
  {
   "cell_type": "code",
   "execution_count": 2,
   "id": "e8845bc7",
   "metadata": {},
   "outputs": [
    {
     "name": "stdout",
     "output_type": "stream",
     "text": [
      "Emil Refsnes\n"
     ]
    }
   ],
   "source": [
    "#This function expects 2 arguments, and gets 2 arguments:\n",
    "def my_function(fname, lname):\n",
    "      print(fname + \" \" + lname)\n",
    "\n",
    "my_function(\"Emil\", \"Refsnes\")\n"
   ]
  },
  {
   "cell_type": "markdown",
   "id": "616454f7",
   "metadata": {},
   "source": [
    "# Keyword Parameters/Arguments\n"
   ]
  },
  {
   "cell_type": "code",
   "execution_count": 5,
   "id": "94780972",
   "metadata": {},
   "outputs": [
    {
     "name": "stdout",
     "output_type": "stream",
     "text": [
      "The youngest child is Rafi\n"
     ]
    }
   ],
   "source": [
    "#You can also send arguments with the key = value syntax.\n",
    "#This way the order of the arguments does not matter.\n",
    "\n",
    "def my_function(child3, child2, child1):\n",
    "      print(\"The youngest child is \" + child1)\n",
    "\n",
    "my_function(child1 = \"Rafi\", child2 = \"Enam\", child3 = \"Rifat\")\n"
   ]
  },
  {
   "cell_type": "markdown",
   "id": "f05c7845",
   "metadata": {},
   "source": [
    "# Default Parameter Value\n"
   ]
  },
  {
   "cell_type": "code",
   "execution_count": 6,
   "id": "308f048f",
   "metadata": {},
   "outputs": [
    {
     "name": "stdout",
     "output_type": "stream",
     "text": [
      "I am from Sweden\n",
      "I am from India\n",
      "I am from Norway\n",
      "I am from Brazil\n"
     ]
    }
   ],
   "source": [
    "def my_function(country = \"Norway\"):\n",
    "      print(\"I am from \" + country)\n",
    "    \n",
    "my_function(\"Sweden\")\n",
    "my_function(\"India\")\n",
    "my_function()\n",
    "my_function(\"Brazil\")\n"
   ]
  },
  {
   "cell_type": "markdown",
   "id": "02c42777",
   "metadata": {},
   "source": [
    "# xargs and xxargs\n",
    "\n"
   ]
  },
  {
   "cell_type": "code",
   "execution_count": 10,
   "id": "120a0e17",
   "metadata": {},
   "outputs": [
    {
     "name": "stdout",
     "output_type": "stream",
     "text": [
      "The youngest child is Rafi\n"
     ]
    }
   ],
   "source": [
    "#If the number of arguments is unknown, add a * before the parameter name:\n",
    "def my_function(*kids):\n",
    "      print(\"The youngest child is \" + kids[0])\n",
    "\n",
    "my_function(\"Rafi\", \"Enam\", \"Rifat\")\n"
   ]
  },
  {
   "cell_type": "code",
   "execution_count": 11,
   "id": "2c4c5412",
   "metadata": {},
   "outputs": [
    {
     "name": "stdout",
     "output_type": "stream",
     "text": [
      "His last name is Refsnes\n"
     ]
    }
   ],
   "source": [
    "def my_function(**kid):\n",
    "      print(\"His last name is \" + kid[\"lname\"])\n",
    "\n",
    "my_function(fname = \"Tobias\", lname = \"Refsnes\")\n"
   ]
  },
  {
   "cell_type": "markdown",
   "id": "405255ed",
   "metadata": {},
   "source": [
    "# Return Statement \n"
   ]
  },
  {
   "cell_type": "code",
   "execution_count": 12,
   "id": "33882540",
   "metadata": {},
   "outputs": [
    {
     "name": "stdout",
     "output_type": "stream",
     "text": [
      "15\n",
      "25\n",
      "45\n"
     ]
    }
   ],
   "source": [
    "def my_function(x):\n",
    "      return 5 * x\n",
    "\n",
    "print(my_function(3))\n",
    "print(my_function(5))\n",
    "print(my_function(9))\n"
   ]
  },
  {
   "cell_type": "markdown",
   "id": "a2926e2a",
   "metadata": {},
   "source": [
    "# Lambda Function\n"
   ]
  },
  {
   "cell_type": "code",
   "execution_count": 13,
   "id": "d7acbba2",
   "metadata": {},
   "outputs": [
    {
     "name": "stdout",
     "output_type": "stream",
     "text": [
      "15\n"
     ]
    }
   ],
   "source": [
    "print((lambda a : a + 10) (5)) #a is parameter, 5 is argument\n"
   ]
  },
  {
   "cell_type": "code",
   "execution_count": 15,
   "id": "ca0707a2",
   "metadata": {},
   "outputs": [
    {
     "name": "stdout",
     "output_type": "stream",
     "text": [
      "15\n"
     ]
    }
   ],
   "source": [
    "x = lambda a : a + 10\n",
    "print(x(5))\n"
   ]
  },
  {
   "cell_type": "code",
   "execution_count": 16,
   "id": "8790552d",
   "metadata": {},
   "outputs": [
    {
     "name": "stdout",
     "output_type": "stream",
     "text": [
      "13\n"
     ]
    }
   ],
   "source": [
    "x = lambda a, b, c : a + b + c\n",
    "print(x(5, 6, 2))\n"
   ]
  },
  {
   "cell_type": "code",
   "execution_count": 17,
   "id": "9b03966b",
   "metadata": {},
   "outputs": [
    {
     "name": "stdout",
     "output_type": "stream",
     "text": [
      "125\n",
      "125\n"
     ]
    }
   ],
   "source": [
    "def cube(y):\n",
    "      return y * y * y\n",
    "\n",
    "lambda_cube = lambda y: y * y * y\n",
    "\n",
    "print(cube(5))\n",
    "\n",
    "# using the lambda function\n",
    "print(lambda_cube(5))\n"
   ]
  },
  {
   "cell_type": "markdown",
   "id": "a92a85ad",
   "metadata": {},
   "source": [
    "# Map and Filter function\n"
   ]
  },
  {
   "cell_type": "code",
   "execution_count": 18,
   "id": "2a2b1b09",
   "metadata": {},
   "outputs": [
    {
     "name": "stdout",
     "output_type": "stream",
     "text": [
      "[5, 6, 6]\n"
     ]
    }
   ],
   "source": [
    "def myfunc(a):\n",
    "      return len(a)\n",
    "\n",
    "x = map(myfunc, ('apple', 'banana', 'cherry'))\n",
    "print(list(x))\n"
   ]
  },
  {
   "cell_type": "code",
   "execution_count": 19,
   "id": "aca55021",
   "metadata": {},
   "outputs": [
    {
     "name": "stdout",
     "output_type": "stream",
     "text": [
      "[1, 4, 9, 16, 25]\n"
     ]
    }
   ],
   "source": [
    "def square(x):\n",
    "    return x*x\n",
    "\n",
    "num = [1, 2, 3, 4, 5]\n",
    "result = list(map(square, num))\n",
    "\n",
    "print(result)\n"
   ]
  },
  {
   "cell_type": "code",
   "execution_count": 20,
   "id": "bc38df3a",
   "metadata": {},
   "outputs": [
    {
     "name": "stdout",
     "output_type": "stream",
     "text": [
      "[18, 24, 32]\n"
     ]
    }
   ],
   "source": [
    "ages = [5, 12, 17, 18, 24, 32]\n",
    "\n",
    "def myFunc(x):\n",
    "      if x < 18:\n",
    "        return False\n",
    "      else:\n",
    "        return True\n",
    "\n",
    "adults = list(filter(myFunc, ages))\n",
    "\n",
    "print(adults)\n"
   ]
  },
  {
   "cell_type": "code",
   "execution_count": 22,
   "id": "afbc9e97",
   "metadata": {},
   "outputs": [
    {
     "name": "stdout",
     "output_type": "stream",
     "text": [
      "[12, 18, 32]\n"
     ]
    }
   ],
   "source": [
    "num = [5, 12, 17, 18, 25, 32]\n",
    "\n",
    "result = list(filter(lambda x: x%2==0, num))\n",
    "\n",
    "print(result)\n",
    "#print(num)\n"
   ]
  },
  {
   "cell_type": "markdown",
   "id": "a65fe163",
   "metadata": {},
   "source": [
    "# Zip Function\n"
   ]
  },
  {
   "cell_type": "code",
   "execution_count": 23,
   "id": "deaee603",
   "metadata": {},
   "outputs": [
    {
     "name": "stdout",
     "output_type": "stream",
     "text": [
      "[(101, 'Jenny'), (102, 'Christy'), (103, 'Monica'), (104, 'John'), (105, 'Charles'), (106, 'Mike')]\n"
     ]
    }
   ],
   "source": [
    "roll = (101, 102, 103, 104, 105, 106)\n",
    "name = (\"Jenny\", \"Christy\", \"Monica\", \"John\", \"Charles\", \"Mike\")\n",
    "\n",
    "result = list(zip(roll, name))\n",
    "print(result)\n"
   ]
  },
  {
   "cell_type": "code",
   "execution_count": 24,
   "id": "b4b98f90",
   "metadata": {},
   "outputs": [
    {
     "name": "stdout",
     "output_type": "stream",
     "text": [
      "[(101, 102, 103, 104, 105, 106), ('Jenny', 'Christy', 'Monica', 'John', 'Charles', 'Mike')]\n"
     ]
    }
   ],
   "source": [
    "zipitem = [(101, 'Jenny'), (102, 'Christy'), (103, 'Monica'), (104, 'John'), (105, 'Charles'), (106, 'Mike')]\n",
    "\n",
    "res = list(zip(*zipitem))\n",
    "\n",
    "print(res)\n"
   ]
  },
  {
   "cell_type": "markdown",
   "id": "a27e3e79",
   "metadata": {},
   "source": [
    "# Recursion "
   ]
  },
  {
   "cell_type": "code",
   "execution_count": 25,
   "id": "886a3dc5",
   "metadata": {},
   "outputs": [
    {
     "name": "stdout",
     "output_type": "stream",
     "text": [
      "Enter a number:5\n",
      "The factorial of 5 is 120\n"
     ]
    }
   ],
   "source": [
    "def factorial(x):\n",
    "    if x == 1:\n",
    "        return 1\n",
    "    else:\n",
    "        return (x * factorial(x-1))\n",
    "\n",
    "num = int(input(\"Enter a number:\"))\n",
    "print(\"The factorial of\", num, \"is\", factorial(num))\n"
   ]
  },
  {
   "cell_type": "markdown",
   "id": "7d5881b5",
   "metadata": {},
   "source": [
    "# Exception Handling\n"
   ]
  },
  {
   "cell_type": "code",
   "execution_count": 27,
   "id": "0fe2213e",
   "metadata": {},
   "outputs": [
    {
     "name": "stdout",
     "output_type": "stream",
     "text": [
      "<map object at 0x000001C211FA4B20>\n"
     ]
    }
   ],
   "source": [
    "try:\n",
    "    print(x)\n",
    "except:\n",
    "    print(\"An exception occurred\")\n"
   ]
  },
  {
   "cell_type": "code",
   "execution_count": 28,
   "id": "1880b507",
   "metadata": {},
   "outputs": [
    {
     "name": "stdout",
     "output_type": "stream",
     "text": [
      "<map object at 0x000001C211FA4B20>\n"
     ]
    }
   ],
   "source": [
    "try:\n",
    "    print(x)\n",
    "except NameError:\n",
    "    print(\"Variable x is not defined\")\n",
    "except:\n",
    "    print(\"Something else went wrong\")\n"
   ]
  },
  {
   "cell_type": "code",
   "execution_count": 29,
   "id": "3b4ab3e6",
   "metadata": {},
   "outputs": [
    {
     "name": "stdout",
     "output_type": "stream",
     "text": [
      "2\n",
      "Finished\n"
     ]
    }
   ],
   "source": [
    "x=2\n",
    "try:\n",
    "    print(x)\n",
    "except:\n",
    "    print(\"Something went wrong\")\n",
    "finally:\n",
    "    print(\"Finished\")\n"
   ]
  },
  {
   "cell_type": "code",
   "execution_count": 30,
   "id": "5eb2555a",
   "metadata": {},
   "outputs": [
    {
     "name": "stdout",
     "output_type": "stream",
     "text": [
      "2\n"
     ]
    }
   ],
   "source": [
    "try:\n",
    "    print(x)\n",
    "except NameError as nr:\n",
    "    print(nr)\n",
    "except:\n",
    "    print(\"Something else went wrong\")\n"
   ]
  },
  {
   "cell_type": "code",
   "execution_count": 31,
   "id": "8fc0307c",
   "metadata": {},
   "outputs": [
    {
     "name": "stdout",
     "output_type": "stream",
     "text": [
      "NameError Occurred and Handled\n"
     ]
    }
   ],
   "source": [
    "def fun(a):\n",
    "    if a == 3:\n",
    "        b = a / (a - 3)\n",
    "    print(\"Value of b = \", b)\n",
    "\n",
    "try:\n",
    "    fun(5)\n",
    "except ZeroDivisionError:\n",
    "    print(\"ZeroDivisionError Occurred and Handled\")\n",
    "except NameError:\n",
    "    print(\"NameError Occurred and Handled\")\n"
   ]
  },
  {
   "cell_type": "code",
   "execution_count": null,
   "id": "2fa54451",
   "metadata": {},
   "outputs": [],
   "source": []
  }
 ],
 "metadata": {
  "kernelspec": {
   "display_name": "Python 3 (ipykernel)",
   "language": "python",
   "name": "python3"
  },
  "language_info": {
   "codemirror_mode": {
    "name": "ipython",
    "version": 3
   },
   "file_extension": ".py",
   "mimetype": "text/x-python",
   "name": "python",
   "nbconvert_exporter": "python",
   "pygments_lexer": "ipython3",
   "version": "3.9.12"
  }
 },
 "nbformat": 4,
 "nbformat_minor": 5
}
