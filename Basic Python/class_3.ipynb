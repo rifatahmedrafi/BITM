{
 "cells": [
  {
   "cell_type": "markdown",
   "id": "c16b13c4",
   "metadata": {},
   "source": [
    "# Arithmetic Operator"
   ]
  },
  {
   "cell_type": "code",
   "execution_count": 2,
   "id": "5d1b2117",
   "metadata": {},
   "outputs": [
    {
     "name": "stdout",
     "output_type": "stream",
     "text": [
      "5\n",
      "1\n",
      "6\n",
      "1.5\n",
      "1\n",
      "1\n",
      "9\n",
      "67\n"
     ]
    }
   ],
   "source": [
    "val1 = 3\n",
    "val2 = 2\n",
    "\n",
    "print(val1 + val2)\n",
    "print(val1 - val2)\n",
    "print(val1 * val2)\n",
    "print(val1 / val2)\n",
    "print(val1 // val2)\n",
    "print(val1 % val2)\n",
    "print(val1 ** val2)\n",
    "\n",
    "print(10+3*2**2+45)\n"
   ]
  },
  {
   "cell_type": "markdown",
   "id": "634393cb",
   "metadata": {},
   "source": [
    "# Math Functions/Module"
   ]
  },
  {
   "cell_type": "code",
   "execution_count": 8,
   "id": "78c9e677",
   "metadata": {},
   "outputs": [
    {
     "name": "stdout",
     "output_type": "stream",
     "text": [
      "3\n",
      "2.9\n",
      "3\n",
      "2\n"
     ]
    }
   ],
   "source": [
    "#Python math Functions\n",
    "x = 2.9\n",
    "print(round(x))\n",
    "print(abs(-x))\n",
    "\n",
    "#Python math Module\n",
    "import math\n",
    "x = 2.9\n",
    "print(math.ceil(x))\n",
    "print(math.floor(x))"
   ]
  },
  {
   "cell_type": "markdown",
   "id": "4c4c9b4f",
   "metadata": {},
   "source": [
    "# If Statements \n"
   ]
  },
  {
   "cell_type": "code",
   "execution_count": 15,
   "id": "932d39b5",
   "metadata": {},
   "outputs": [
    {
     "name": "stdout",
     "output_type": "stream",
     "text": [
      "I am Not in if\n",
      "i is greater than 15\n",
      "i'm in else Block\n",
      "i'm not in if and not in else Block\n",
      "i is 20\n"
     ]
    }
   ],
   "source": [
    "#if statement\n",
    "i = 10\n",
    " \n",
    "if i > 15:\n",
    "    print(\"10 is less than 15\")\n",
    "print(\"I am Not in if\")\n",
    "\n",
    "\n",
    "#if else statement\n",
    "i = 20\n",
    "if i < 15:\n",
    "    print(\"i is smaller than 15\")\n",
    "    print(\"i'm in if Block\")\n",
    "else:\n",
    "    print(\"i is greater than 15\")\n",
    "    print(\"i'm in else Block\")\n",
    "print(\"i'm not in if and not in else Block\")\n",
    "\n",
    "\n",
    "#if elif else statement\n",
    "i = 20\n",
    "if i == 10:\n",
    "    print(\"i is 10\")\n",
    "elif i == 15:\n",
    "    print(\"i is 15\")\n",
    "elif i == 20:\n",
    "    print(\"i is 20\")\n",
    "else:\n",
    "    print(\"i is not present\")\n"
   ]
  },
  {
   "cell_type": "markdown",
   "id": "978680d5",
   "metadata": {},
   "source": [
    "# Logical Operators \n"
   ]
  },
  {
   "cell_type": "code",
   "execution_count": null,
   "id": "c182d67e",
   "metadata": {},
   "outputs": [],
   "source": [
    "#AND Operators\n",
    "a = 10\n",
    "b = 10\n",
    "c = -10\n",
    "  \n",
    "if a > 0 and b > 0:\n",
    "    print(\"The numbers are greater than 0\")\n",
    "\n",
    "if a > 0 and b > 0 and c > 0:\n",
    "    print(\"The numbers are greater than 0\")\n",
    "else:\n",
    "    print(\"Atleast one number is not greater than 0\")\n",
    "\n",
    "    \n",
    "#OR Operators\n",
    "a = 10\n",
    "b = -10\n",
    "c = 0\n",
    "  \n",
    "if a > 0 or b > 0:\n",
    "    print(\"Either of the number is greater than 0\")\n",
    "else:\n",
    "    print(\"No number is greater than 0\")\n",
    "    \n",
    "if b > 0 or c > 0:\n",
    "    print(\"Either of the number is greater than 0\")\n",
    "else:\n",
    "    print(\"No number is greater than 0\")\n",
    "\n",
    "    \n",
    "#NOT Operators\n",
    "a = 10\n",
    "  \n",
    "if not (a%3 == 0 or a%5 == 0):\n",
    "    print(\"10 is not divisible by either 3 or 5\")\n",
    "else:\n",
    "    print(\"10 is divisible by either 3 or 5\")\n"
   ]
  },
  {
   "cell_type": "markdown",
   "id": "550a006b",
   "metadata": {},
   "source": [
    "# Grade program "
   ]
  },
  {
   "cell_type": "code",
   "execution_count": 1,
   "id": "634ba862",
   "metadata": {},
   "outputs": [
    {
     "name": "stdout",
     "output_type": "stream",
     "text": [
      "Enter your subject1: 33\n",
      "Enter your subject2: 44\n",
      "Enter your subject3: 55\n",
      "Enter your subject4: 66\n",
      "Enter your subject5: 12\n",
      "Your grade is D\n"
     ]
    }
   ],
   "source": [
    "mark1 = int(input(\"Enter your subject1: \"))\n",
    "mark2 = int(input(\"Enter your subject2: \"))\n",
    "mark3 = int(input(\"Enter your subject3: \"))\n",
    "mark4 = int(input(\"Enter your subject4: \"))\n",
    "mark5 = int(input(\"Enter your subject5: \"))\n",
    "\n",
    "total = mark1 + mark2 + mark3 + mark4 + mark5\n",
    "avg = total / 5\n",
    "\n",
    "if avg >= 91 and avg <= 100:\n",
    "    print('Your grade is A++')\n",
    "elif avg >= 81 and avg <= 90:\n",
    "    print('Your grade is A+')\n",
    "elif avg >= 71 and avg <= 80:\n",
    "    print('Your grade is A')\n",
    "elif avg >= 61 and avg <= 70:\n",
    "    print('Your grade is B')\n",
    "elif avg >= 51 and avg <= 60:\n",
    "    print('Your grade is C')\n",
    "elif avg >= 41 and avg <= 50:\n",
    "    print('Your grade is D')\n",
    "elif avg >= 33 and avg <= 40:\n",
    "    print('Your grade is E')\n",
    "else:\n",
    "    print('You are fail')\n",
    "    "
   ]
  },
  {
   "cell_type": "markdown",
   "id": "6397ad28",
   "metadata": {},
   "source": [
    "# Comparison/Relational/Conditional  Operators\n"
   ]
  },
  {
   "cell_type": "code",
   "execution_count": 2,
   "id": "14c73c03",
   "metadata": {},
   "outputs": [
    {
     "name": "stdout",
     "output_type": "stream",
     "text": [
      "True\n",
      "False\n",
      "False\n",
      "True\n",
      "True\n",
      "False\n"
     ]
    }
   ],
   "source": [
    "a = 9\n",
    "b = 5\n",
    "\n",
    "print(a > b)\n",
    "print(a < b)\n",
    "print(a == b)\n",
    "print(a != b)\n",
    "print(a >= b)\n",
    "print(a <= b)\n"
   ]
  },
  {
   "cell_type": "markdown",
   "id": "4ceff821",
   "metadata": {},
   "source": [
    "# Leap Year Program\n"
   ]
  },
  {
   "cell_type": "code",
   "execution_count": null,
   "id": "81aea613",
   "metadata": {},
   "outputs": [],
   "source": [
    "year = int(input('Enter your yrar: '))\n",
    "\n",
    "if year % 4 == 0:\n",
    "    print('This is leap year')\n",
    "else:\n",
    "    print('This is not leap year')"
   ]
  },
  {
   "cell_type": "markdown",
   "id": "9500db98",
   "metadata": {},
   "source": [
    "# Ternary Operators \n"
   ]
  },
  {
   "cell_type": "code",
   "execution_count": 5,
   "id": "1cc4bad6",
   "metadata": {},
   "outputs": [
    {
     "name": "stdout",
     "output_type": "stream",
     "text": [
      "20\n"
     ]
    }
   ],
   "source": [
    "num1=20\n",
    "num2=15\n",
    "print(num1 if num1>num2 else num2)\n"
   ]
  },
  {
   "cell_type": "markdown",
   "id": "555c2e57",
   "metadata": {},
   "source": [
    "# Weight Converter Program \n"
   ]
  },
  {
   "cell_type": "code",
   "execution_count": 9,
   "id": "7189267f",
   "metadata": {},
   "outputs": [
    {
     "name": "stdout",
     "output_type": "stream",
     "text": [
      "Enter your weight: 45\n",
      "(k)g or (l)bs: l\n",
      "Your weight is 18.0 weight\n"
     ]
    }
   ],
   "source": [
    "weight = float(input('Enter your weight: '))\n",
    "unit = input(\"(k)g or (l)bs: \")\n",
    "\n",
    "if unit.upper() == \"K\":\n",
    "    converted = weight / 0.4\n",
    "    print(f\"Your weight is {converted} pounds\")\n",
    "else:\n",
    "    converted = weight * 0.4\n",
    "    print(f\"Your weight is {converted} weight\")"
   ]
  },
  {
   "cell_type": "markdown",
   "id": "a10e6cda",
   "metadata": {},
   "source": [
    "# While Loop"
   ]
  },
  {
   "cell_type": "code",
   "execution_count": 12,
   "id": "25ab8c09",
   "metadata": {},
   "outputs": [
    {
     "name": "stdout",
     "output_type": "stream",
     "text": [
      "The count is:  0\n",
      "The count is:  1\n",
      "The count is:  2\n",
      "The count is:  3\n",
      "The count is:  4\n",
      "The count is:  5\n",
      "The count is:  6\n",
      "The count is:  7\n",
      "The count is:  8\n",
      "Good bye!\n"
     ]
    }
   ],
   "source": [
    "count = 0\n",
    "while (count < 9):\n",
    "   print('The count is: ', count)\n",
    "   count = count + 1\n",
    "\n",
    "print(\"Good bye!\")\n"
   ]
  },
  {
   "cell_type": "markdown",
   "id": "ebc7c4d6",
   "metadata": {},
   "source": [
    "# Break & Continue Statement \n"
   ]
  },
  {
   "cell_type": "code",
   "execution_count": 14,
   "id": "9f885717",
   "metadata": {},
   "outputs": [
    {
     "name": "stdout",
     "output_type": "stream",
     "text": [
      "1\n",
      "2\n",
      "3\n"
     ]
    }
   ],
   "source": [
    "#break\n",
    "i = 1\n",
    "while i < 6:\n",
    "    print(i)\n",
    "    if i == 3:\n",
    "        break\n",
    "    i += 1\n",
    "\n",
    "    \n",
    "#continue\n",
    "i = 0\n",
    "while i < 6:\n",
    "    i += 1\n",
    "    if i == 3:\n",
    "    continue\n",
    "print(i)\n"
   ]
  },
  {
   "cell_type": "markdown",
   "id": "2336eee1",
   "metadata": {},
   "source": [
    "# Sum of n Numbers Program\n"
   ]
  },
  {
   "cell_type": "code",
   "execution_count": 1,
   "id": "e636756a",
   "metadata": {},
   "outputs": [
    {
     "name": "stdout",
     "output_type": "stream",
     "text": [
      "Enter your last number: 5\n",
      "15\n"
     ]
    }
   ],
   "source": [
    "num = int(input(\"Enter your last number: \"))\n",
    "sum = 0\n",
    "i = 1\n",
    "\n",
    "while i <= num:\n",
    "    sum = sum + i\n",
    "    i = i + 1\n",
    "    \n",
    "print(sum)    \n",
    "    "
   ]
  },
  {
   "cell_type": "markdown",
   "id": "9fb0cb69",
   "metadata": {},
   "source": [
    "# Building a Guessing Game \n"
   ]
  },
  {
   "cell_type": "code",
   "execution_count": 2,
   "id": "3103d202",
   "metadata": {},
   "outputs": [
    {
     "name": "stdout",
     "output_type": "stream",
     "text": [
      "Enter your guess number: 2\n",
      "Enter your guess number: 3\n",
      "Enter your guess number: 7\n",
      "Congratulation\n"
     ]
    }
   ],
   "source": [
    "src_num = 7\n",
    "guess_count = 0\n",
    "guess_limite = 3\n",
    "\n",
    "while guess_count < guess_limite:\n",
    "    guess = int(input('Enter your guess number: '))\n",
    "    guess_count += 1\n",
    "    if guess == src_num: \n",
    "        print('Congratulation')\n",
    "        break"
   ]
  },
  {
   "cell_type": "markdown",
   "id": "13146a4f",
   "metadata": {},
   "source": [
    "# Building the Car Game  \n"
   ]
  },
  {
   "cell_type": "code",
   "execution_count": 4,
   "id": "cbcf2fcf",
   "metadata": {},
   "outputs": [
    {
     "name": "stdout",
     "output_type": "stream",
     "text": [
      ">asdf\n",
      "Sorry!! I can't understand your command\n",
      ">START\n",
      "Car start\n",
      ">quit\n"
     ]
    }
   ],
   "source": [
    "command = \"\"\n",
    "\n",
    "while True:\n",
    "    command = input(\">\").lower()\n",
    "    if command == \"start\":\n",
    "        print(\"Car start\")\n",
    "    elif command == \"stop\":\n",
    "        print(\"Car stop\")\n",
    "    elif command == \"help\":\n",
    "        print('''\n",
    "                start = start the car\n",
    "                stop = stop the car\n",
    "                quit = to quit\n",
    "            ''')\n",
    "    elif command == \"quit\":\n",
    "        break\n",
    "    else:\n",
    "        print(\"Sorry!! I can't understand your command\")"
   ]
  },
  {
   "cell_type": "markdown",
   "id": "2752240b",
   "metadata": {},
   "source": [
    "# for loop"
   ]
  },
  {
   "cell_type": "code",
   "execution_count": 5,
   "id": "14f4eb42",
   "metadata": {},
   "outputs": [
    {
     "name": "stdout",
     "output_type": "stream",
     "text": [
      "b\n",
      "a\n",
      "n\n",
      "a\n",
      "n\n",
      "a\n"
     ]
    }
   ],
   "source": [
    "#Looping Through a String\n",
    "\n",
    "for x in \"banana\":\n",
    "    print(x)\n"
   ]
  },
  {
   "cell_type": "code",
   "execution_count": 6,
   "id": "ae748cd2",
   "metadata": {},
   "outputs": [
    {
     "name": "stdout",
     "output_type": "stream",
     "text": [
      "apple\n",
      "banana\n",
      "cherry\n"
     ]
    }
   ],
   "source": [
    "#Looping Through a list\n",
    "\n",
    "fruits = [\"apple\", \"banana\", \"cherry\"]\n",
    "for x in fruits:\n",
    "    print(x)\n"
   ]
  },
  {
   "cell_type": "code",
   "execution_count": 7,
   "id": "839e2cbc",
   "metadata": {},
   "outputs": [
    {
     "name": "stdout",
     "output_type": "stream",
     "text": [
      "apple\n",
      "banana\n"
     ]
    }
   ],
   "source": [
    "#The break Statement\n",
    "#Exit the loop when x is \"banana\"\n",
    "\n",
    "fruits = [\"apple\", \"banana\", \"cherry\"]\n",
    "for x in fruits:\n",
    "    print(x)\n",
    "    if x == \"banana\":\n",
    "        break\n"
   ]
  },
  {
   "cell_type": "code",
   "execution_count": 8,
   "id": "76de1754",
   "metadata": {},
   "outputs": [
    {
     "name": "stdout",
     "output_type": "stream",
     "text": [
      "apple\n",
      "cherry\n"
     ]
    }
   ],
   "source": [
    "#The continue Statement\n",
    "#Do not print banana:\n",
    "\n",
    "fruits = [\"apple\", \"banana\", \"cherry\"]\n",
    "for x in fruits:\n",
    "    if x == \"banana\":\n",
    "        continue\n",
    "    print(x)\n"
   ]
  },
  {
   "cell_type": "markdown",
   "id": "42c95a76",
   "metadata": {},
   "source": [
    "# For-While Comparison\n"
   ]
  },
  {
   "cell_type": "code",
   "execution_count": 10,
   "id": "500e5598",
   "metadata": {},
   "outputs": [
    {
     "name": "stdout",
     "output_type": "stream",
     "text": [
      "10\n",
      "20\n",
      "30\n",
      "40\n",
      "50\n"
     ]
    }
   ],
   "source": [
    "#while\n",
    "num = [10, 20, 30, 40, 50]\n",
    "index = 0\n",
    "n = len(num)\n",
    "while index < n:\n",
    "    print(num[index])\n",
    "    index = index+1\n"
   ]
  },
  {
   "cell_type": "code",
   "execution_count": 11,
   "id": "72ccfac3",
   "metadata": {},
   "outputs": [
    {
     "name": "stdout",
     "output_type": "stream",
     "text": [
      "10\n",
      "20\n",
      "30\n",
      "40\n",
      "50\n"
     ]
    }
   ],
   "source": [
    "#for\n",
    "num = [10, 20, 30, 40, 50]\n",
    "for x in num:\n",
    "    print(x)"
   ]
  },
  {
   "cell_type": "markdown",
   "id": "b9f54829",
   "metadata": {},
   "source": [
    "# For with Range Function\n"
   ]
  },
  {
   "cell_type": "code",
   "execution_count": 12,
   "id": "eba66a64",
   "metadata": {},
   "outputs": [
    {
     "name": "stdout",
     "output_type": "stream",
     "text": [
      "0\n",
      "1\n",
      "2\n",
      "3\n",
      "4\n",
      "5\n"
     ]
    }
   ],
   "source": [
    "#Using the range() function:\n",
    "\n",
    "for x in range(6):\n",
    "    print(x)\n"
   ]
  },
  {
   "cell_type": "code",
   "execution_count": 13,
   "id": "1dabdc33",
   "metadata": {},
   "outputs": [
    {
     "name": "stdout",
     "output_type": "stream",
     "text": [
      "2\n",
      "3\n",
      "4\n",
      "5\n"
     ]
    }
   ],
   "source": [
    "#Using the start parameter:\n",
    "\n",
    "for x in range(2, 6):\n",
    "    print(x)\n"
   ]
  },
  {
   "cell_type": "code",
   "execution_count": 17,
   "id": "d21cb32d",
   "metadata": {},
   "outputs": [
    {
     "name": "stdout",
     "output_type": "stream",
     "text": [
      "2, 5, 8, 11, 14, 17, 20, 23, 26, 29, "
     ]
    }
   ],
   "source": [
    "#Increment the sequence with 3 (default is 1):\n",
    "\n",
    "for x in range(2, 30, 3):\n",
    "    print(x, end=', ')\n"
   ]
  },
  {
   "cell_type": "markdown",
   "id": "3891c850",
   "metadata": {},
   "source": [
    "# Nested Loops \n"
   ]
  },
  {
   "cell_type": "code",
   "execution_count": 18,
   "id": "eea8f803",
   "metadata": {},
   "outputs": [
    {
     "name": "stdout",
     "output_type": "stream",
     "text": [
      "red apple\n",
      "red banana\n",
      "red cherry\n",
      "big apple\n",
      "big banana\n",
      "big cherry\n",
      "tasty apple\n",
      "tasty banana\n",
      "tasty cherry\n"
     ]
    }
   ],
   "source": [
    "adj = [\"red\", \"big\", \"tasty\"]\n",
    "fruits = [\"apple\", \"banana\", \"cherry\"]\n",
    "\n",
    "for x in adj:\n",
    "    for y in fruits:\n",
    "        print(x, y)\n"
   ]
  },
  {
   "cell_type": "code",
   "execution_count": null,
   "id": "87827e3e",
   "metadata": {},
   "outputs": [],
   "source": []
  }
 ],
 "metadata": {
  "kernelspec": {
   "display_name": "Python 3 (ipykernel)",
   "language": "python",
   "name": "python3"
  },
  "language_info": {
   "codemirror_mode": {
    "name": "ipython",
    "version": 3
   },
   "file_extension": ".py",
   "mimetype": "text/x-python",
   "name": "python",
   "nbconvert_exporter": "python",
   "pygments_lexer": "ipython3",
   "version": "3.9.12"
  }
 },
 "nbformat": 4,
 "nbformat_minor": 5
}
