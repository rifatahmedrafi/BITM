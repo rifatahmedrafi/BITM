{
 "cells": [
  {
   "cell_type": "markdown",
   "id": "acdfcd2b",
   "metadata": {},
   "source": [
    "# list"
   ]
  },
  {
   "cell_type": "code",
   "execution_count": 1,
   "id": "7391f756",
   "metadata": {},
   "outputs": [
    {
     "name": "stdout",
     "output_type": "stream",
     "text": [
      "['apple', 'banana', 'cherry']\n",
      "['apple', 'banana', 'cherry']\n"
     ]
    }
   ],
   "source": [
    "thislist = [\"apple\", \"banana\", \"cherry\"]\n",
    "print(thislist)\n"
   ]
  },
  {
   "cell_type": "code",
   "execution_count": 2,
   "id": "0cc268b7",
   "metadata": {},
   "outputs": [
    {
     "name": "stdout",
     "output_type": "stream",
     "text": [
      "['apple', 'banana', 'cherry', 'apple', 'cherry']\n",
      "['apple', 'banana', 'cherry', 'apple', 'cherry']\n"
     ]
    }
   ],
   "source": [
    "thislist = [\"apple\", \"banana\", \"cherry\", \"apple\", \"cherry\"]\n",
    "print(thislist)\n"
   ]
  },
  {
   "cell_type": "code",
   "execution_count": 3,
   "id": "11f20907",
   "metadata": {},
   "outputs": [
    {
     "name": "stdout",
     "output_type": "stream",
     "text": [
      "['abc', 34, True, 40]\n",
      "a\n",
      "['abc', 34, True, 40]\n",
      "a\n"
     ]
    }
   ],
   "source": [
    "list1 = [\"apple\", \"banana\", \"cherry\"]\n",
    "list2 = [1, 5, 7, 9, 3]\n",
    "list3 = [True, False, False]\n",
    "list4 = [\"abc\", 34, True, 40, \"male\"]\n",
    "list5 = [\"apple\"]\n",
    "string1 = \"apple\"\n",
    "print(list4[0:-1])\n",
    "print(string1[0])\n"
   ]
  },
  {
   "cell_type": "code",
   "execution_count": 4,
   "id": "6c217071",
   "metadata": {},
   "outputs": [
    {
     "name": "stdout",
     "output_type": "stream",
     "text": [
      "['Apple', 'Banaba']\n",
      "['Cherry', 'Mango', 'Guava']\n",
      "Guava\n",
      "[]\n",
      "['Cherry', 'Mango']\n",
      "['Apple', 'Banaba']\n",
      "['Cherry', 'Mango', 'Guava']\n",
      "Guava\n",
      "[]\n",
      "['Cherry', 'Mango']\n"
     ]
    }
   ],
   "source": [
    "list1 = [\"Apple\", \"Banaba\", \"Cherry\", \"Mango\", \"Guava\"]\n",
    "print(list1[0:2])\n",
    "print(list1[2:])\n",
    "print(list1[-1])\n",
    "print(list1[-1:-2])\n",
    "print(list1[-3:-1])\n"
   ]
  },
  {
   "cell_type": "code",
   "execution_count": 5,
   "id": "819d528f",
   "metadata": {},
   "outputs": [
    {
     "name": "stdout",
     "output_type": "stream",
     "text": [
      "['apple', 'banana', 'cherry', 'mango', 'orange']\n",
      "['apple', 'banana', 'cherry', 'mango', 'orange']\n",
      "True\n",
      "False\n",
      "False\n",
      "True\n",
      "['apple', 'banana', 'cherry', 'mango', 'orange']\n",
      "['apple', 'banana', 'cherry', 'mango', 'orange']\n",
      "True\n",
      "False\n",
      "False\n",
      "True\n"
     ]
    }
   ],
   "source": [
    "list = list(('apple', 'banana', 'cherry', 'mango', 'orange'))\n",
    "#[]\n",
    "list1 = [\"apple\", \"banana\", \"cherry\", \"mango\", \"orange\"]\n",
    "print(list)\n",
    "print(list1)\n",
    "print(\"banana\" in list1)\n",
    "print(\"Banana\" in list1)\n",
    "print(\"Tomato\" in list1)\n",
    "print(\"Tomato\" not in list1)\n"
   ]
  },
  {
   "cell_type": "code",
   "execution_count": 6,
   "id": "3ea7546c",
   "metadata": {},
   "outputs": [
    {
     "name": "stdout",
     "output_type": "stream",
     "text": [
      "['apple', 'banana', 'cherry', 'mango', 'orange', 'tomato', 50]\n",
      "['apple', 'banana', 'cherry', 'mango', 'orange', 'apple', 'banana', 'cherry', 'mango', 'orange', 'apple', 'banana', 'cherry', 'mango', 'orange']\n",
      "['apple', 'banana', 'cherry', 'mango', 'orange']\n",
      "['apple', 'banana', 'cherry', 'mango', 'orange', 'tomato', 50]\n",
      "['apple', 'banana', 'cherry', 'mango', 'orange', 'apple', 'banana', 'cherry', 'mango', 'orange', 'apple', 'banana', 'cherry', 'mango', 'orange']\n",
      "['apple', 'banana', 'cherry', 'mango', 'orange']\n"
     ]
    }
   ],
   "source": [
    "list1 = [\"apple\", \"banana\", \"cherry\", \"mango\", \"orange\"]\n",
    "print(list1 + [\"tomato\", 50])\n",
    "print(list1 * 3)\n",
    "print(list1)\n"
   ]
  },
  {
   "cell_type": "code",
   "execution_count": 7,
   "id": "9f1531af",
   "metadata": {},
   "outputs": [
    {
     "name": "stdout",
     "output_type": "stream",
     "text": [
      "['tomato', 'banana', 'cherry', 'mango', 'orange']\n",
      "['tomato', 'banana', 'cherry', 'mango', 'orange']\n"
     ]
    }
   ],
   "source": [
    "list1 = [\"apple\", \"banana\", \"cherry\", \"mango\", \"orange\"]\n",
    "list1[0] = \"tomato\"\n",
    "print(list1)\n"
   ]
  },
  {
   "cell_type": "code",
   "execution_count": 3,
   "id": "ff327c94",
   "metadata": {},
   "outputs": [
    {
     "name": "stdout",
     "output_type": "stream",
     "text": [
      "Enter a list element in number separated by space: 5 5 3 2 1 7\n",
      "Calculating sum of element of input list\n",
      "Sum =  23\n"
     ]
    }
   ],
   "source": [
    "input_string = input(\"Enter a list element in number separated by space: \")\n",
    "list  = input_string.split()\n",
    "print(\"Calculating sum of element of input list\")\n",
    "sum = 0\n",
    "for num in list:\n",
    "    sum += int (num)\n",
    "print(\"Sum = \",sum)\n"
   ]
  },
  {
   "cell_type": "code",
   "execution_count": 4,
   "id": "e9bb2546",
   "metadata": {},
   "outputs": [
    {
     "name": "stdout",
     "output_type": "stream",
     "text": [
      "10\n"
     ]
    }
   ],
   "source": [
    "numbers = [3, 7, 2, 5, 8, 10, 1]\n",
    "max = numbers[0]\n",
    "for item in numbers:\n",
    "    if max < item:\n",
    "        max = item\n",
    "print(max)\n"
   ]
  },
  {
   "cell_type": "code",
   "execution_count": 5,
   "id": "08dda393",
   "metadata": {},
   "outputs": [
    {
     "name": "stdout",
     "output_type": "stream",
     "text": [
      "Enter a list element in number separated by space: 4 2 8 9\n",
      "9\n"
     ]
    }
   ],
   "source": [
    "input_num = input(\"Enter a list element in number separated by space: \")\n",
    "numbers = input_num.split()\n",
    "max_num = numbers[0]\n",
    "\n",
    "for item in numbers:\n",
    "    if max_num < item:\n",
    "        max_num = item\n",
    "print(max_num)        "
   ]
  },
  {
   "cell_type": "markdown",
   "id": "2eb26bb8",
   "metadata": {},
   "source": [
    "# list method"
   ]
  },
  {
   "cell_type": "code",
   "execution_count": 6,
   "id": "15144600",
   "metadata": {},
   "outputs": [
    {
     "name": "stdout",
     "output_type": "stream",
     "text": [
      "['apple', 'banana', 'cherry', 'orange']\n"
     ]
    }
   ],
   "source": [
    "#append()\n",
    "fruits = ['apple', 'banana', 'cherry']\n",
    "fruits.append(\"orange\")\n",
    "print(fruits)\n"
   ]
  },
  {
   "cell_type": "code",
   "execution_count": 7,
   "id": "7eeb67b6",
   "metadata": {},
   "outputs": [
    {
     "name": "stdout",
     "output_type": "stream",
     "text": [
      "[]\n"
     ]
    }
   ],
   "source": [
    "#clear()\n",
    "fruits = ['apple', 'banana', 'cherry', 'orange']\n",
    "fruits.clear()\n",
    "print(fruits)\n"
   ]
  },
  {
   "cell_type": "code",
   "execution_count": 8,
   "id": "6df785dc",
   "metadata": {},
   "outputs": [
    {
     "name": "stdout",
     "output_type": "stream",
     "text": [
      "['apple', 'banana', 'cherry']\n"
     ]
    }
   ],
   "source": [
    "#copy()\n",
    "fruits = [\"apple\", \"banana\", \"cherry\"]\n",
    "x = fruits.copy()\n",
    "print(x)\n"
   ]
  },
  {
   "cell_type": "code",
   "execution_count": 9,
   "id": "e268a3bc",
   "metadata": {},
   "outputs": [
    {
     "name": "stdout",
     "output_type": "stream",
     "text": [
      "2\n"
     ]
    }
   ],
   "source": [
    "#count()\n",
    "fruits = [\"cherry\", \"apple\", \"banana\", \"cherry\"]\n",
    "x = fruits.count(\"cherry\")\n",
    "print(x)\n"
   ]
  },
  {
   "cell_type": "code",
   "execution_count": 10,
   "id": "9a1230ae",
   "metadata": {},
   "outputs": [
    {
     "name": "stdout",
     "output_type": "stream",
     "text": [
      "['apple', 'banana', 'cherry', 'Ford', 'BMW', 'Volvo']\n"
     ]
    }
   ],
   "source": [
    "#extend()\n",
    "fruits = ['apple', 'banana', 'cherry']\n",
    "cars = ['Ford', 'BMW', 'Volvo']\n",
    "fruits.extend(cars)\n",
    "print(fruits)\n"
   ]
  },
  {
   "cell_type": "code",
   "execution_count": 11,
   "id": "368e5614",
   "metadata": {},
   "outputs": [
    {
     "name": "stdout",
     "output_type": "stream",
     "text": [
      "2\n"
     ]
    }
   ],
   "source": [
    "#index()\n",
    "fruits = ['apple', 'banana', 'cherry']\n",
    "x = fruits.index(\"cherry\")\n",
    "print(x)\n"
   ]
  },
  {
   "cell_type": "code",
   "execution_count": 12,
   "id": "ef0997ac",
   "metadata": {},
   "outputs": [
    {
     "name": "stdout",
     "output_type": "stream",
     "text": [
      "['apple', 'orange', 'banana', 'cherry']\n"
     ]
    }
   ],
   "source": [
    "#insert()\n",
    "fruits = ['apple', 'banana', 'cherry']\n",
    "fruits.insert(1, \"orange\")\n",
    "print(fruits)\n"
   ]
  },
  {
   "cell_type": "code",
   "execution_count": 13,
   "id": "fee29764",
   "metadata": {},
   "outputs": [
    {
     "name": "stdout",
     "output_type": "stream",
     "text": [
      "['apple', 'cherry']\n"
     ]
    }
   ],
   "source": [
    "#pop()\n",
    "fruits = ['apple', 'banana', 'cherry']\n",
    "fruits.pop(1)\n",
    "print(fruits)\n"
   ]
  },
  {
   "cell_type": "code",
   "execution_count": 14,
   "id": "9faf4d9c",
   "metadata": {},
   "outputs": [
    {
     "name": "stdout",
     "output_type": "stream",
     "text": [
      "['apple', 'cherry']\n"
     ]
    }
   ],
   "source": [
    "#remove()\n",
    "fruits = ['apple', 'banana', 'cherry']\n",
    "fruits.remove(\"banana\")\n",
    "print(fruits)\n"
   ]
  },
  {
   "cell_type": "code",
   "execution_count": 15,
   "id": "13deab09",
   "metadata": {},
   "outputs": [
    {
     "name": "stdout",
     "output_type": "stream",
     "text": [
      "['Volvo', 'Ford', 'BMW']\n"
     ]
    }
   ],
   "source": [
    "#sort()\n",
    "cars = ['Ford', 'BMW', 'Volvo']\n",
    "cars.sort(reverse=True)\n",
    "print(cars)\n",
    "\n",
    "#cars.sort(reverse=False) \n"
   ]
  },
  {
   "cell_type": "markdown",
   "id": "1d0d4cd4",
   "metadata": {},
   "source": [
    "# Range Function in a list \n"
   ]
  },
  {
   "cell_type": "code",
   "execution_count": 16,
   "id": "89a27bd3",
   "metadata": {},
   "outputs": [
    {
     "name": "stdout",
     "output_type": "stream",
     "text": [
      "[1, 2, 3, 4, 5, 6, 7, 8, 9, 10, 11, 12, 13, 14, 15, 16, 17, 18, 19, 20]\n",
      "[10, 11, 12, 13, 14, 15, 16, 17, 18, 19]\n"
     ]
    }
   ],
   "source": [
    "My_list = [*range(1, 21, 1)]\n",
    "print(My_list)\n",
    "\n",
    "My_list1 = []\n",
    "My_list1.extend(range(10, 20))\n",
    "print(My_list1)\n"
   ]
  },
  {
   "cell_type": "markdown",
   "id": "7f3791a5",
   "metadata": {},
   "source": [
    "# 2D Lists/Matrix \n"
   ]
  },
  {
   "cell_type": "code",
   "execution_count": 17,
   "id": "33f8504b",
   "metadata": {},
   "outputs": [
    {
     "name": "stdout",
     "output_type": "stream",
     "text": [
      "A = [[1, 4, 5, 12], [-5, 8, 9, 0], [-6, 7, 11, 19]]\n",
      "A[1] = [-5, 8, 9, 0]\n",
      "A[1][2] = 9\n",
      "A[0][-1] = 12\n"
     ]
    }
   ],
   "source": [
    "A = [\n",
    "    [1, 4, 5, 12], \n",
    "    [-5, 8, 9, 0],\n",
    "    [-6, 7, 11, 19]\n",
    "]\n",
    "print(\"A =\", A) \n",
    "print(\"A[1] =\", A[1])      # 2nd row\n",
    "print(\"A[1][2] =\", A[1][2])   # 3rd element of 2nd row\n",
    "print(\"A[0][-1] =\", A[0][-1])   # Last element of 1st Row\n"
   ]
  },
  {
   "cell_type": "code",
   "execution_count": 18,
   "id": "71aac0af",
   "metadata": {},
   "outputs": [
    {
     "name": "stdout",
     "output_type": "stream",
     "text": [
      "3rd column = [5, 9, 11]\n"
     ]
    }
   ],
   "source": [
    "A = [\n",
    "    [1, 4, 5, 12], \n",
    "    [-5, 8, 9, 0],\n",
    "    [-6, 7, 11, 19]\n",
    "]\n",
    "\n",
    "column = [];        # empty list\n",
    "for row in A:\n",
    "    column.append(row[2])   \n",
    "\n",
    "print(\"3rd column =\", column)\n"
   ]
  },
  {
   "cell_type": "markdown",
   "id": "5c8ac171",
   "metadata": {},
   "source": [
    "# Tuples "
   ]
  },
  {
   "cell_type": "code",
   "execution_count": 19,
   "id": "0a0818ce",
   "metadata": {},
   "outputs": [
    {
     "name": "stdout",
     "output_type": "stream",
     "text": [
      "('apple', 'banana', 'cherry')\n"
     ]
    }
   ],
   "source": [
    "thistuple = (\"apple\", \"banana\", \"cherry\")\n",
    "print(thistuple)\n"
   ]
  },
  {
   "cell_type": "markdown",
   "id": "7b452e21",
   "metadata": {},
   "source": [
    "# Unpacking/Comparing  "
   ]
  },
  {
   "cell_type": "code",
   "execution_count": 20,
   "id": "ab17ddc9",
   "metadata": {},
   "outputs": [
    {
     "name": "stdout",
     "output_type": "stream",
     "text": [
      "apple\n",
      "banana\n",
      "cherry\n"
     ]
    }
   ],
   "source": [
    "fruits = (\"apple\", \"banana\", \"cherry\")\n",
    "\n",
    "green, yellow, red = fruits\n",
    "\n",
    "print(green)\n",
    "print(yellow)\n",
    "print(red)\n"
   ]
  },
  {
   "cell_type": "code",
   "execution_count": 21,
   "id": "eccc1cf5",
   "metadata": {},
   "outputs": [
    {
     "name": "stdout",
     "output_type": "stream",
     "text": [
      "apple\n",
      "banana\n",
      "['cherry', 'strawberry', 'raspberry']\n"
     ]
    }
   ],
   "source": [
    "fruits = (\"apple\", \"banana\", \"cherry\", \"strawberry\", \"raspberry\")\n",
    "\n",
    "green, yellow, *red = fruits\n",
    "\n",
    "print(green)\n",
    "print(yellow)\n",
    "print(red)\n"
   ]
  },
  {
   "cell_type": "code",
   "execution_count": 22,
   "id": "8fd85bff",
   "metadata": {},
   "outputs": [
    {
     "name": "stdout",
     "output_type": "stream",
     "text": [
      "b is bigger\n"
     ]
    }
   ],
   "source": [
    "a=(0,6)\n",
    "b=(1,4)\n",
    "if (a>b):\n",
    "    print(\"a is bigger\")\n",
    "else: \n",
    "    print(\"b is bigger\")\n"
   ]
  },
  {
   "cell_type": "markdown",
   "id": "66f26101",
   "metadata": {},
   "source": [
    "# Set(Union/Intersection/Difference) \n"
   ]
  },
  {
   "cell_type": "code",
   "execution_count": 23,
   "id": "625d08ca",
   "metadata": {},
   "outputs": [
    {
     "name": "stdout",
     "output_type": "stream",
     "text": [
      "{1, 2, 3}\n",
      "{1.0, (1, 2, 3), 'Hello'}\n"
     ]
    }
   ],
   "source": [
    "# Different types of sets in Python\n",
    "# set of integers\n",
    "my_set = {1, 2, 3}\n",
    "print(my_set)\n",
    "\n",
    "# set of mixed datatypes\n",
    "my_set = {1.0, \"Hello\", (1, 2, 3)}\n",
    "print(my_set)\n"
   ]
  },
  {
   "cell_type": "code",
   "execution_count": 24,
   "id": "a42b95b4",
   "metadata": {},
   "outputs": [
    {
     "name": "stdout",
     "output_type": "stream",
     "text": [
      "{1, 2, 3, 4}\n",
      "{1, 2, 3}\n"
     ]
    }
   ],
   "source": [
    "# set cannot have duplicates\n",
    "my_set = {1, 2, 3, 4, 3, 2}\n",
    "print(my_set)\n",
    "\n",
    "# we can make set from a list\n",
    "my_set = set([1, 2, 3, 2])\n",
    "print(my_set)\n"
   ]
  },
  {
   "cell_type": "code",
   "execution_count": 25,
   "id": "7cf54e26",
   "metadata": {},
   "outputs": [
    {
     "name": "stdout",
     "output_type": "stream",
     "text": [
      "{1, 2, 3, 4, 5, 6, 7}\n",
      "{4, 5}\n",
      "{1, 2, 3}\n"
     ]
    }
   ],
   "source": [
    "num1 ={1, 2, 3, 4, 5}\n",
    "num2 ={4, 5, 6, 7}\n",
    "\n",
    "print(num1 | num2)   #union\n",
    "print(num1 & num2)   #intersection\n",
    "print(num1 - num2)   #difference\n"
   ]
  },
  {
   "cell_type": "markdown",
   "id": "edea987d",
   "metadata": {},
   "source": [
    "# Dictionaries "
   ]
  },
  {
   "cell_type": "code",
   "execution_count": 27,
   "id": "163e9850",
   "metadata": {},
   "outputs": [
    {
     "name": "stdout",
     "output_type": "stream",
     "text": [
      "{'brand': 'Ford', 'model': 'Mustang', 'year': 1964}\n"
     ]
    }
   ],
   "source": [
    "thisdict = {\n",
    "  \"brand\": \"Ford\",\n",
    "  \"model\": \"Mustang\",\n",
    "  \"year\": 1964\n",
    "}\n",
    "print(thisdict)\n"
   ]
  },
  {
   "cell_type": "code",
   "execution_count": 28,
   "id": "be693825",
   "metadata": {},
   "outputs": [
    {
     "name": "stdout",
     "output_type": "stream",
     "text": [
      "Ford\n"
     ]
    }
   ],
   "source": [
    "thisdict = {\n",
    "  \"brand\": \"Ford\",\n",
    "  \"model\": \"Mustang\",\n",
    "  \"year\": 1964\n",
    "}\n",
    "print(thisdict[\"brand\"])\n"
   ]
  },
  {
   "cell_type": "code",
   "execution_count": 32,
   "id": "59d5d97e",
   "metadata": {},
   "outputs": [
    {
     "name": "stdout",
     "output_type": "stream",
     "text": [
      "Ford\n"
     ]
    }
   ],
   "source": [
    "thisdict = {\n",
    "  \"brand\": \"Ford\",\n",
    "  \"model\": \"Mustang\",\n",
    "  \"year\": 1964\n",
    "}\n",
    "print(thisdict.get(\"brand\"))\n"
   ]
  },
  {
   "cell_type": "code",
   "execution_count": 35,
   "id": "ae58033c",
   "metadata": {},
   "outputs": [
    {
     "name": "stdout",
     "output_type": "stream",
     "text": [
      "Invalid Key\n"
     ]
    }
   ],
   "source": [
    "thisdict = {\n",
    "  \"brand\": \"Ford\",\n",
    "  \"model\": \"Mustang\",\n",
    "  \"year\": 1964\n",
    "}\n",
    "print(thisdict.get(\"name\", \"Invalid Key\"))\n"
   ]
  },
  {
   "cell_type": "code",
   "execution_count": 36,
   "id": "dc1fe554",
   "metadata": {},
   "outputs": [
    {
     "name": "stdout",
     "output_type": "stream",
     "text": [
      "{'brand': 'Ford', 'electric': False, 'year': 1964, 'colors': ['red', 'white', 'blue']}\n"
     ]
    }
   ],
   "source": [
    "thisdict = {\n",
    "  \"brand\": \"Ford\",\n",
    "  \"electric\": False,\n",
    "  \"year\": 1964,\n",
    "  \"colors\": [\"red\", \"white\", \"blue\"]\n",
    "}\n",
    "print(thisdict)\n"
   ]
  },
  {
   "cell_type": "code",
   "execution_count": 37,
   "id": "100fc628",
   "metadata": {},
   "outputs": [
    {
     "name": "stdout",
     "output_type": "stream",
     "text": [
      "{'brand': 'Ford', 'model': 'Mustang', 'year': 2020}\n"
     ]
    }
   ],
   "source": [
    "thisdict = {\n",
    "  \"brand\": \"Ford\",\n",
    "  \"model\": \"Mustang\",\n",
    "  \"year\": 1964,\n",
    "  \"year\": 2020\n",
    "}\n",
    "print(thisdict)\n"
   ]
  }
 ],
 "metadata": {
  "kernelspec": {
   "display_name": "Python 3 (ipykernel)",
   "language": "python",
   "name": "python3"
  },
  "language_info": {
   "codemirror_mode": {
    "name": "ipython",
    "version": 3
   },
   "file_extension": ".py",
   "mimetype": "text/x-python",
   "name": "python",
   "nbconvert_exporter": "python",
   "pygments_lexer": "ipython3",
   "version": "3.9.12"
  }
 },
 "nbformat": 4,
 "nbformat_minor": 5
}
