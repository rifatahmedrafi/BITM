{
 "cells": [
  {
   "cell_type": "markdown",
   "id": "6f7fb797",
   "metadata": {},
   "source": [
    "# Grade Program"
   ]
  },
  {
   "cell_type": "code",
   "execution_count": 1,
   "id": "40fff56b",
   "metadata": {},
   "outputs": [
    {
     "name": "stdout",
     "output_type": "stream",
     "text": [
      "Enter your mark (math): 81\n",
      "Enter your mark (bangla): 79\n",
      "Enter your mark (english): 78\n",
      "Enter your mark (physics): 79\n",
      "Enter your mark (chemistry): 78\n",
      "Enter your mark (biology): 79\n",
      "Your grade is A\n"
     ]
    }
   ],
   "source": [
    "math = int(input(\"Enter your mark (math): \"))\n",
    "bangla = int(input('Enter your mark (bangla): '))\n",
    "english = int(input('Enter your mark (english): '))\n",
    "physics = int(input('Enter your mark (physics): '))\n",
    "chemistry = int(input('Enter your mark (chemistry): '))\n",
    "biology = int(input('Enter your mark (biology): '))\n",
    "\n",
    "total = math + bangla + english + physics + chemistry + biology\n",
    "avg = total / 6\n",
    "\n",
    "if avg >= 90 and avg <= 100:\n",
    "    print('Your grade is A++')\n",
    "elif avg >= 80 and avg <= 89:\n",
    "    print('Your grade is A+')\n",
    "elif avg >= 70 and avg <= 79:\n",
    "    print('Your grade is A')\n",
    "elif avg >= 60 and avg <= 69:\n",
    "    print('Your grade is B')\n",
    "elif avg >= 50 and avg <= 59:\n",
    "    print('Your grade is C')\n",
    "elif avg >= 33 and avg <= 49:\n",
    "    print('Your grade is D')\n",
    "else:\n",
    "    print('Congratulation! Your are Fail')"
   ]
  },
  {
   "cell_type": "markdown",
   "id": "ad85b050",
   "metadata": {},
   "source": [
    "# Leap Year Program"
   ]
  },
  {
   "cell_type": "code",
   "execution_count": 4,
   "id": "72d48345",
   "metadata": {},
   "outputs": [
    {
     "name": "stdout",
     "output_type": "stream",
     "text": [
      "Please give me a year: 9\n",
      "This is not Leap Year\n"
     ]
    }
   ],
   "source": [
    "year = int(input('Please give me a year: '))\n",
    "\n",
    "if year % 4 == 0:\n",
    "    print('This is Leap Year')\n",
    "else: \n",
    "    print('This is not Leap Year')"
   ]
  },
  {
   "cell_type": "markdown",
   "id": "15dd3308",
   "metadata": {},
   "source": [
    "# Weight Converter Program "
   ]
  },
  {
   "cell_type": "code",
   "execution_count": 7,
   "id": "d7e496d3",
   "metadata": {},
   "outputs": [
    {
     "name": "stdout",
     "output_type": "stream",
     "text": [
      "Enter your weight: 102.5\n",
      "k(kilogram)g or l(pound)bs: l\n",
      "Your weight is 41.0 kilogram\n"
     ]
    }
   ],
   "source": [
    "weight = float(input('Enter your weight: '))\n",
    "unit = input(\"k(kilogram)g or l(pound)bs: \")\n",
    "\n",
    "if unit.upper() == \"K\":\n",
    "    convert = weight / 0.4\n",
    "    print(f'Your weight is {convert} pound')\n",
    "else: \n",
    "    convert = weight * 0.4\n",
    "    print(f'Your weight is {convert} kilogram')"
   ]
  },
  {
   "cell_type": "markdown",
   "id": "afb3d044",
   "metadata": {},
   "source": [
    "# Sum of n Numbers Program"
   ]
  },
  {
   "cell_type": "code",
   "execution_count": 9,
   "id": "bc4e5002",
   "metadata": {},
   "outputs": [
    {
     "name": "stdout",
     "output_type": "stream",
     "text": [
      "Enter your last number: 5\n",
      "15\n"
     ]
    }
   ],
   "source": [
    "num = int(input('Enter your last number: '))\n",
    "sum = 0\n",
    "i = 1\n",
    "\n",
    "while i <= num:\n",
    "    sum = sum + i\n",
    "    i = i + 1\n",
    "print(sum)    \n",
    "    "
   ]
  },
  {
   "cell_type": "markdown",
   "id": "60279f1e",
   "metadata": {},
   "source": [
    "# Building a Guessing Game"
   ]
  },
  {
   "cell_type": "code",
   "execution_count": 30,
   "id": "31ffea4e",
   "metadata": {},
   "outputs": [
    {
     "name": "stdout",
     "output_type": "stream",
     "text": [
      "Enter your guess number: 3\n",
      "Enter your guess number: 9\n",
      "Enter your guess number: 8\n",
      "Congratulation! your are win\n"
     ]
    }
   ],
   "source": [
    "src_num = 8\n",
    "guess_count = 0\n",
    "guess_limite = 3\n",
    "\n",
    "while guess_count < guess_limite:\n",
    "    guess = int(input('Enter your guess number: '))\n",
    "    guess_count += 1\n",
    "    if guess == src_num:\n",
    "        print('Congratulation! your are win')\n",
    "        break"
   ]
  },
  {
   "cell_type": "code",
   "execution_count": 29,
   "id": "76faf762",
   "metadata": {},
   "outputs": [
    {
     "name": "stdout",
     "output_type": "stream",
     "text": [
      "Enter your guess number: >>>3\n",
      "You are Won! \n",
      " The secret number is 3\n",
      "\n",
      " \n",
      " Your secret number is 3. \n",
      " Better luck next time.\n"
     ]
    }
   ],
   "source": [
    "import random \n",
    "secret_num = random.randint(1,3)\n",
    "guess_limit = 3\n",
    "count = 0\n",
    "\n",
    "while count<guess_limit:\n",
    "    guess = int(input('Enter your guess number: >>>'))\n",
    "    count+=1\n",
    "    if guess == secret_num:\n",
    "        print('You are Won! \\n The secret number is', secret_num)\n",
    "        break\n",
    "    else:\n",
    "        print('Failed! \\n Please try another number.')\n",
    "print(f'\\n \\n Your secret number is {secret_num}. \\n Better luck next time.')"
   ]
  },
  {
   "cell_type": "code",
   "execution_count": 32,
   "id": "6338661b",
   "metadata": {},
   "outputs": [
    {
     "name": "stdout",
     "output_type": "stream",
     "text": [
      ">> HELP\n",
      "\n",
      "                start = start the car\n",
      "                stop = stop the car\n",
      "                quit = to quit\n",
      "            \n",
      ">> start\n",
      "The car is start\n",
      ">> stop\n",
      "The car is stop\n",
      ">> quit\n"
     ]
    }
   ],
   "source": [
    "command = ''\n",
    "\n",
    "while True:\n",
    "    command = input('>> ').lower()\n",
    "    if command == 'start':\n",
    "        print('The car is start')\n",
    "    elif command == 'stop':\n",
    "        print('The car is stop')\n",
    "    elif command == 'help':\n",
    "        print('''\n",
    "                start = start the car\n",
    "                stop = stop the car\n",
    "                quit = to quit\n",
    "            ''')\n",
    "    elif command == 'quit' :\n",
    "        break\n",
    "    else:\n",
    "        print('Sorry sir! I can not understand your command')"
   ]
  },
  {
   "cell_type": "markdown",
   "id": "0c050fb6",
   "metadata": {},
   "source": [
    "# Find the Largest Number from List \n"
   ]
  },
  {
   "cell_type": "code",
   "execution_count": 34,
   "id": "b53bf504",
   "metadata": {},
   "outputs": [
    {
     "name": "stdout",
     "output_type": "stream",
     "text": [
      "10\n"
     ]
    }
   ],
   "source": [
    "num = [1,2,3,4,5,6,8,9,10]\n",
    "large = num[0]\n",
    "\n",
    "for item in num:\n",
    "    if item > large:\n",
    "        large = item\n",
    "print(large)    "
   ]
  },
  {
   "cell_type": "code",
   "execution_count": null,
   "id": "0b154538",
   "metadata": {},
   "outputs": [],
   "source": [
    "#edit version\n",
    "num = input(\"Enter the number of list: \")\n",
    "lists = num.split()\n",
    "large = lists[0]\n",
    "\n",
    "for item in lists:\n",
    "    if item > large:\n",
    "        large = item\n",
    "print(large) "
   ]
  },
  {
   "cell_type": "code",
   "execution_count": null,
   "id": "0fe5af3d",
   "metadata": {},
   "outputs": [],
   "source": []
  },
  {
   "cell_type": "code",
   "execution_count": null,
   "id": "4d2c25ab",
   "metadata": {},
   "outputs": [],
   "source": []
  }
 ],
 "metadata": {
  "kernelspec": {
   "display_name": "Python 3 (ipykernel)",
   "language": "python",
   "name": "python3"
  },
  "language_info": {
   "codemirror_mode": {
    "name": "ipython",
    "version": 3
   },
   "file_extension": ".py",
   "mimetype": "text/x-python",
   "name": "python",
   "nbconvert_exporter": "python",
   "pygments_lexer": "ipython3",
   "version": "3.9.12"
  }
 },
 "nbformat": 4,
 "nbformat_minor": 5
}
